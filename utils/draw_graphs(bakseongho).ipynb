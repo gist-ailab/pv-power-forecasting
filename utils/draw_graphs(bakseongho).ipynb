{
 "cells": [
  {
   "cell_type": "code",
   "execution_count": 1,
   "metadata": {},
   "outputs": [
    {
     "name": "stdout",
     "output_type": "stream",
     "text": [
      "Collecting notebook\n",
      "  Downloading notebook-7.4.3-py3-none-any.whl.metadata (10 kB)\n",
      "Collecting jupyter-server<3,>=2.4.0 (from notebook)\n",
      "  Downloading jupyter_server-2.16.0-py3-none-any.whl.metadata (8.5 kB)\n",
      "Collecting jupyterlab-server<3,>=2.27.1 (from notebook)\n",
      "  Using cached jupyterlab_server-2.27.3-py3-none-any.whl.metadata (5.9 kB)\n",
      "Collecting jupyterlab<4.5,>=4.4.3 (from notebook)\n",
      "  Downloading jupyterlab-4.4.3-py3-none-any.whl.metadata (16 kB)\n",
      "Collecting notebook-shim<0.3,>=0.2 (from notebook)\n",
      "  Using cached notebook_shim-0.2.4-py3-none-any.whl.metadata (4.0 kB)\n",
      "Collecting tornado>=6.2.0 (from notebook)\n",
      "  Downloading tornado-6.5.1-cp39-abi3-manylinux_2_5_x86_64.manylinux1_x86_64.manylinux_2_17_x86_64.manylinux2014_x86_64.whl.metadata (2.8 kB)\n",
      "Collecting anyio>=3.1.0 (from jupyter-server<3,>=2.4.0->notebook)\n",
      "  Using cached anyio-4.9.0-py3-none-any.whl.metadata (4.7 kB)\n",
      "Collecting argon2-cffi>=21.1 (from jupyter-server<3,>=2.4.0->notebook)\n",
      "  Using cached argon2_cffi-23.1.0-py3-none-any.whl.metadata (5.2 kB)\n",
      "Requirement already satisfied: jinja2>=3.0.3 in /home/bak/miniconda3/envs/pv/lib/python3.10/site-packages (from jupyter-server<3,>=2.4.0->notebook) (3.1.4)\n",
      "Collecting jupyter-client>=7.4.4 (from jupyter-server<3,>=2.4.0->notebook)\n",
      "  Using cached jupyter_client-8.6.3-py3-none-any.whl.metadata (8.3 kB)\n",
      "Requirement already satisfied: jupyter-core!=5.0.*,>=4.12 in /home/bak/miniconda3/envs/pv/lib/python3.10/site-packages (from jupyter-server<3,>=2.4.0->notebook) (5.7.2)\n",
      "Collecting jupyter-events>=0.11.0 (from jupyter-server<3,>=2.4.0->notebook)\n",
      "  Downloading jupyter_events-0.12.0-py3-none-any.whl.metadata (5.8 kB)\n",
      "Collecting jupyter-server-terminals>=0.4.4 (from jupyter-server<3,>=2.4.0->notebook)\n",
      "  Using cached jupyter_server_terminals-0.5.3-py3-none-any.whl.metadata (5.6 kB)\n",
      "Collecting nbconvert>=6.4.4 (from jupyter-server<3,>=2.4.0->notebook)\n",
      "  Using cached nbconvert-7.16.6-py3-none-any.whl.metadata (8.5 kB)\n",
      "Requirement already satisfied: nbformat>=5.3.0 in /home/bak/miniconda3/envs/pv/lib/python3.10/site-packages (from jupyter-server<3,>=2.4.0->notebook) (5.10.4)\n",
      "Collecting overrides>=5.0 (from jupyter-server<3,>=2.4.0->notebook)\n",
      "  Using cached overrides-7.7.0-py3-none-any.whl.metadata (5.8 kB)\n",
      "Requirement already satisfied: packaging>=22.0 in /home/bak/miniconda3/envs/pv/lib/python3.10/site-packages (from jupyter-server<3,>=2.4.0->notebook) (25.0)\n",
      "Collecting prometheus-client>=0.9 (from jupyter-server<3,>=2.4.0->notebook)\n",
      "  Downloading prometheus_client-0.22.0-py3-none-any.whl.metadata (14 kB)\n",
      "Requirement already satisfied: pyzmq>=24 in /home/bak/miniconda3/envs/pv/lib/python3.10/site-packages (from jupyter-server<3,>=2.4.0->notebook) (26.2.0)\n",
      "Collecting send2trash>=1.8.2 (from jupyter-server<3,>=2.4.0->notebook)\n",
      "  Using cached Send2Trash-1.8.3-py3-none-any.whl.metadata (4.0 kB)\n",
      "Collecting terminado>=0.8.3 (from jupyter-server<3,>=2.4.0->notebook)\n",
      "  Using cached terminado-0.18.1-py3-none-any.whl.metadata (5.8 kB)\n",
      "Requirement already satisfied: traitlets>=5.6.0 in /home/bak/miniconda3/envs/pv/lib/python3.10/site-packages (from jupyter-server<3,>=2.4.0->notebook) (5.14.3)\n",
      "Requirement already satisfied: websocket-client>=1.7 in /home/bak/miniconda3/envs/pv/lib/python3.10/site-packages (from jupyter-server<3,>=2.4.0->notebook) (1.8.0)\n",
      "Collecting async-lru>=1.0.0 (from jupyterlab<4.5,>=4.4.3->notebook)\n",
      "  Downloading async_lru-2.0.5-py3-none-any.whl.metadata (4.5 kB)\n",
      "Collecting httpx>=0.25.0 (from jupyterlab<4.5,>=4.4.3->notebook)\n",
      "  Using cached httpx-0.28.1-py3-none-any.whl.metadata (7.1 kB)\n",
      "Requirement already satisfied: ipykernel>=6.5.0 in /home/bak/miniconda3/envs/pv/lib/python3.10/site-packages (from jupyterlab<4.5,>=4.4.3->notebook) (6.29.5)\n",
      "Collecting jupyter-lsp>=2.0.0 (from jupyterlab<4.5,>=4.4.3->notebook)\n",
      "  Downloading jupyter_lsp-2.2.5-py3-none-any.whl.metadata (1.8 kB)\n",
      "Requirement already satisfied: setuptools>=41.1.0 in /home/bak/miniconda3/envs/pv/lib/python3.10/site-packages (from jupyterlab<4.5,>=4.4.3->notebook) (75.8.0)\n",
      "Collecting tomli>=1.2.2 (from jupyterlab<4.5,>=4.4.3->notebook)\n",
      "  Using cached tomli-2.2.1-py3-none-any.whl.metadata (10 kB)\n",
      "Collecting babel>=2.10 (from jupyterlab-server<3,>=2.27.1->notebook)\n",
      "  Using cached babel-2.17.0-py3-none-any.whl.metadata (2.0 kB)\n",
      "Collecting json5>=0.9.0 (from jupyterlab-server<3,>=2.27.1->notebook)\n",
      "  Using cached json5-0.12.0-py3-none-any.whl.metadata (36 kB)\n",
      "Requirement already satisfied: jsonschema>=4.18.0 in /home/bak/miniconda3/envs/pv/lib/python3.10/site-packages (from jupyterlab-server<3,>=2.27.1->notebook) (4.23.0)\n",
      "Requirement already satisfied: requests>=2.31 in /home/bak/miniconda3/envs/pv/lib/python3.10/site-packages (from jupyterlab-server<3,>=2.27.1->notebook) (2.32.3)\n",
      "Requirement already satisfied: exceptiongroup>=1.0.2 in /home/bak/miniconda3/envs/pv/lib/python3.10/site-packages (from anyio>=3.1.0->jupyter-server<3,>=2.4.0->notebook) (1.3.0)\n",
      "Requirement already satisfied: idna>=2.8 in /home/bak/miniconda3/envs/pv/lib/python3.10/site-packages (from anyio>=3.1.0->jupyter-server<3,>=2.4.0->notebook) (3.10)\n",
      "Requirement already satisfied: sniffio>=1.1 in /home/bak/miniconda3/envs/pv/lib/python3.10/site-packages (from anyio>=3.1.0->jupyter-server<3,>=2.4.0->notebook) (1.3.1)\n",
      "Requirement already satisfied: typing_extensions>=4.5 in /home/bak/miniconda3/envs/pv/lib/python3.10/site-packages (from anyio>=3.1.0->jupyter-server<3,>=2.4.0->notebook) (4.12.2)\n",
      "Collecting argon2-cffi-bindings (from argon2-cffi>=21.1->jupyter-server<3,>=2.4.0->notebook)\n",
      "  Using cached argon2_cffi_bindings-21.2.0-cp36-abi3-manylinux_2_17_x86_64.manylinux2014_x86_64.whl.metadata (6.7 kB)\n",
      "Requirement already satisfied: certifi in /home/bak/miniconda3/envs/pv/lib/python3.10/site-packages (from httpx>=0.25.0->jupyterlab<4.5,>=4.4.3->notebook) (2025.4.26)\n",
      "Collecting httpcore==1.* (from httpx>=0.25.0->jupyterlab<4.5,>=4.4.3->notebook)\n",
      "  Downloading httpcore-1.0.9-py3-none-any.whl.metadata (21 kB)\n",
      "Requirement already satisfied: h11>=0.16 in /home/bak/miniconda3/envs/pv/lib/python3.10/site-packages (from httpcore==1.*->httpx>=0.25.0->jupyterlab<4.5,>=4.4.3->notebook) (0.16.0)\n",
      "Requirement already satisfied: comm>=0.1.1 in /home/bak/miniconda3/envs/pv/lib/python3.10/site-packages (from ipykernel>=6.5.0->jupyterlab<4.5,>=4.4.3->notebook) (0.2.2)\n",
      "Requirement already satisfied: debugpy>=1.6.5 in /home/bak/miniconda3/envs/pv/lib/python3.10/site-packages (from ipykernel>=6.5.0->jupyterlab<4.5,>=4.4.3->notebook) (1.8.11)\n",
      "Requirement already satisfied: ipython>=7.23.1 in /home/bak/miniconda3/envs/pv/lib/python3.10/site-packages (from ipykernel>=6.5.0->jupyterlab<4.5,>=4.4.3->notebook) (8.36.0)\n",
      "Requirement already satisfied: matplotlib-inline>=0.1 in /home/bak/miniconda3/envs/pv/lib/python3.10/site-packages (from ipykernel>=6.5.0->jupyterlab<4.5,>=4.4.3->notebook) (0.1.7)\n",
      "Requirement already satisfied: nest-asyncio in /home/bak/miniconda3/envs/pv/lib/python3.10/site-packages (from ipykernel>=6.5.0->jupyterlab<4.5,>=4.4.3->notebook) (1.6.0)\n",
      "Requirement already satisfied: psutil in /home/bak/miniconda3/envs/pv/lib/python3.10/site-packages (from ipykernel>=6.5.0->jupyterlab<4.5,>=4.4.3->notebook) (5.9.1)\n",
      "Requirement already satisfied: MarkupSafe>=2.0 in /home/bak/miniconda3/envs/pv/lib/python3.10/site-packages (from jinja2>=3.0.3->jupyter-server<3,>=2.4.0->notebook) (2.1.5)\n",
      "Requirement already satisfied: attrs>=22.2.0 in /home/bak/miniconda3/envs/pv/lib/python3.10/site-packages (from jsonschema>=4.18.0->jupyterlab-server<3,>=2.27.1->notebook) (25.3.0)\n",
      "Requirement already satisfied: jsonschema-specifications>=2023.03.6 in /home/bak/miniconda3/envs/pv/lib/python3.10/site-packages (from jsonschema>=4.18.0->jupyterlab-server<3,>=2.27.1->notebook) (2023.7.1)\n",
      "Requirement already satisfied: referencing>=0.28.4 in /home/bak/miniconda3/envs/pv/lib/python3.10/site-packages (from jsonschema>=4.18.0->jupyterlab-server<3,>=2.27.1->notebook) (0.30.2)\n",
      "Requirement already satisfied: rpds-py>=0.7.1 in /home/bak/miniconda3/envs/pv/lib/python3.10/site-packages (from jsonschema>=4.18.0->jupyterlab-server<3,>=2.27.1->notebook) (0.22.3)\n",
      "Requirement already satisfied: python-dateutil>=2.8.2 in /home/bak/miniconda3/envs/pv/lib/python3.10/site-packages (from jupyter-client>=7.4.4->jupyter-server<3,>=2.4.0->notebook) (2.9.0.post0)\n",
      "Requirement already satisfied: platformdirs>=2.5 in /home/bak/miniconda3/envs/pv/lib/python3.10/site-packages (from jupyter-core!=5.0.*,>=4.12->jupyter-server<3,>=2.4.0->notebook) (4.3.8)\n",
      "Collecting python-json-logger>=2.0.4 (from jupyter-events>=0.11.0->jupyter-server<3,>=2.4.0->notebook)\n",
      "  Using cached python_json_logger-3.3.0-py3-none-any.whl.metadata (4.0 kB)\n",
      "Requirement already satisfied: pyyaml>=5.3 in /home/bak/miniconda3/envs/pv/lib/python3.10/site-packages (from jupyter-events>=0.11.0->jupyter-server<3,>=2.4.0->notebook) (6.0.2)\n",
      "Collecting rfc3339-validator (from jupyter-events>=0.11.0->jupyter-server<3,>=2.4.0->notebook)\n",
      "  Using cached rfc3339_validator-0.1.4-py2.py3-none-any.whl.metadata (1.5 kB)\n",
      "Collecting rfc3986-validator>=0.1.1 (from jupyter-events>=0.11.0->jupyter-server<3,>=2.4.0->notebook)\n",
      "  Using cached rfc3986_validator-0.1.1-py2.py3-none-any.whl.metadata (1.7 kB)\n",
      "Collecting beautifulsoup4 (from nbconvert>=6.4.4->jupyter-server<3,>=2.4.0->notebook)\n",
      "  Using cached beautifulsoup4-4.13.4-py3-none-any.whl.metadata (3.8 kB)\n",
      "Collecting bleach!=5.0.0 (from bleach[css]!=5.0.0->nbconvert>=6.4.4->jupyter-server<3,>=2.4.0->notebook)\n",
      "  Downloading bleach-6.2.0-py3-none-any.whl.metadata (30 kB)\n",
      "Collecting defusedxml (from nbconvert>=6.4.4->jupyter-server<3,>=2.4.0->notebook)\n",
      "  Using cached defusedxml-0.7.1-py2.py3-none-any.whl.metadata (32 kB)\n",
      "Collecting jupyterlab-pygments (from nbconvert>=6.4.4->jupyter-server<3,>=2.4.0->notebook)\n",
      "  Using cached jupyterlab_pygments-0.3.0-py3-none-any.whl.metadata (4.4 kB)\n",
      "Collecting mistune<4,>=2.0.3 (from nbconvert>=6.4.4->jupyter-server<3,>=2.4.0->notebook)\n",
      "  Using cached mistune-3.1.3-py3-none-any.whl.metadata (1.8 kB)\n",
      "Collecting nbclient>=0.5.0 (from nbconvert>=6.4.4->jupyter-server<3,>=2.4.0->notebook)\n",
      "  Downloading nbclient-0.10.2-py3-none-any.whl.metadata (8.3 kB)\n",
      "Collecting pandocfilters>=1.4.1 (from nbconvert>=6.4.4->jupyter-server<3,>=2.4.0->notebook)\n",
      "  Using cached pandocfilters-1.5.1-py2.py3-none-any.whl.metadata (9.0 kB)\n",
      "Requirement already satisfied: pygments>=2.4.1 in /home/bak/miniconda3/envs/pv/lib/python3.10/site-packages (from nbconvert>=6.4.4->jupyter-server<3,>=2.4.0->notebook) (2.19.1)\n",
      "Requirement already satisfied: fastjsonschema>=2.15 in /home/bak/miniconda3/envs/pv/lib/python3.10/site-packages (from nbformat>=5.3.0->jupyter-server<3,>=2.4.0->notebook) (2.20.0)\n",
      "Requirement already satisfied: charset-normalizer<4,>=2 in /home/bak/miniconda3/envs/pv/lib/python3.10/site-packages (from requests>=2.31->jupyterlab-server<3,>=2.27.1->notebook) (3.4.2)\n",
      "Requirement already satisfied: urllib3<3,>=1.21.1 in /home/bak/miniconda3/envs/pv/lib/python3.10/site-packages (from requests>=2.31->jupyterlab-server<3,>=2.27.1->notebook) (2.4.0)\n",
      "Requirement already satisfied: ptyprocess in /home/bak/miniconda3/envs/pv/lib/python3.10/site-packages (from terminado>=0.8.3->jupyter-server<3,>=2.4.0->notebook) (0.7.0)\n",
      "Collecting webencodings (from bleach!=5.0.0->bleach[css]!=5.0.0->nbconvert>=6.4.4->jupyter-server<3,>=2.4.0->notebook)\n",
      "  Using cached webencodings-0.5.1-py2.py3-none-any.whl.metadata (2.1 kB)\n",
      "Collecting tinycss2<1.5,>=1.1.0 (from bleach[css]!=5.0.0->nbconvert>=6.4.4->jupyter-server<3,>=2.4.0->notebook)\n",
      "  Downloading tinycss2-1.4.0-py3-none-any.whl.metadata (3.0 kB)\n",
      "Requirement already satisfied: decorator in /home/bak/miniconda3/envs/pv/lib/python3.10/site-packages (from ipython>=7.23.1->ipykernel>=6.5.0->jupyterlab<4.5,>=4.4.3->notebook) (5.2.1)\n",
      "Requirement already satisfied: jedi>=0.16 in /home/bak/miniconda3/envs/pv/lib/python3.10/site-packages (from ipython>=7.23.1->ipykernel>=6.5.0->jupyterlab<4.5,>=4.4.3->notebook) (0.19.2)\n",
      "Requirement already satisfied: pexpect>4.3 in /home/bak/miniconda3/envs/pv/lib/python3.10/site-packages (from ipython>=7.23.1->ipykernel>=6.5.0->jupyterlab<4.5,>=4.4.3->notebook) (4.9.0)\n",
      "Requirement already satisfied: prompt_toolkit<3.1.0,>=3.0.41 in /home/bak/miniconda3/envs/pv/lib/python3.10/site-packages (from ipython>=7.23.1->ipykernel>=6.5.0->jupyterlab<4.5,>=4.4.3->notebook) (3.0.51)\n",
      "Requirement already satisfied: stack_data in /home/bak/miniconda3/envs/pv/lib/python3.10/site-packages (from ipython>=7.23.1->ipykernel>=6.5.0->jupyterlab<4.5,>=4.4.3->notebook) (0.6.3)\n",
      "Collecting fqdn (from jsonschema[format-nongpl]>=4.18.0->jupyter-events>=0.11.0->jupyter-server<3,>=2.4.0->notebook)\n",
      "  Using cached fqdn-1.5.1-py3-none-any.whl.metadata (1.4 kB)\n",
      "Collecting isoduration (from jsonschema[format-nongpl]>=4.18.0->jupyter-events>=0.11.0->jupyter-server<3,>=2.4.0->notebook)\n",
      "  Using cached isoduration-20.11.0-py3-none-any.whl.metadata (5.7 kB)\n",
      "Collecting jsonpointer>1.13 (from jsonschema[format-nongpl]>=4.18.0->jupyter-events>=0.11.0->jupyter-server<3,>=2.4.0->notebook)\n",
      "  Using cached jsonpointer-3.0.0-py2.py3-none-any.whl.metadata (2.3 kB)\n",
      "Collecting uri-template (from jsonschema[format-nongpl]>=4.18.0->jupyter-events>=0.11.0->jupyter-server<3,>=2.4.0->notebook)\n",
      "  Using cached uri_template-1.3.0-py3-none-any.whl.metadata (8.8 kB)\n",
      "Collecting webcolors>=24.6.0 (from jsonschema[format-nongpl]>=4.18.0->jupyter-events>=0.11.0->jupyter-server<3,>=2.4.0->notebook)\n",
      "  Downloading webcolors-24.11.1-py3-none-any.whl.metadata (2.2 kB)\n",
      "Requirement already satisfied: six>=1.5 in /home/bak/miniconda3/envs/pv/lib/python3.10/site-packages (from python-dateutil>=2.8.2->jupyter-client>=7.4.4->jupyter-server<3,>=2.4.0->notebook) (1.17.0)\n",
      "Collecting cffi>=1.0.1 (from argon2-cffi-bindings->argon2-cffi>=21.1->jupyter-server<3,>=2.4.0->notebook)\n",
      "  Using cached cffi-1.17.1-cp310-cp310-manylinux_2_17_x86_64.manylinux2014_x86_64.whl.metadata (1.5 kB)\n",
      "Collecting soupsieve>1.2 (from beautifulsoup4->nbconvert>=6.4.4->jupyter-server<3,>=2.4.0->notebook)\n",
      "  Using cached soupsieve-2.7-py3-none-any.whl.metadata (4.6 kB)\n",
      "Collecting pycparser (from cffi>=1.0.1->argon2-cffi-bindings->argon2-cffi>=21.1->jupyter-server<3,>=2.4.0->notebook)\n",
      "  Using cached pycparser-2.22-py3-none-any.whl.metadata (943 bytes)\n",
      "Requirement already satisfied: parso<0.9.0,>=0.8.4 in /home/bak/miniconda3/envs/pv/lib/python3.10/site-packages (from jedi>=0.16->ipython>=7.23.1->ipykernel>=6.5.0->jupyterlab<4.5,>=4.4.3->notebook) (0.8.4)\n",
      "Requirement already satisfied: wcwidth in /home/bak/miniconda3/envs/pv/lib/python3.10/site-packages (from prompt_toolkit<3.1.0,>=3.0.41->ipython>=7.23.1->ipykernel>=6.5.0->jupyterlab<4.5,>=4.4.3->notebook) (0.2.13)\n",
      "Collecting arrow>=0.15.0 (from isoduration->jsonschema[format-nongpl]>=4.18.0->jupyter-events>=0.11.0->jupyter-server<3,>=2.4.0->notebook)\n",
      "  Using cached arrow-1.3.0-py3-none-any.whl.metadata (7.5 kB)\n",
      "Requirement already satisfied: executing>=1.2.0 in /home/bak/miniconda3/envs/pv/lib/python3.10/site-packages (from stack_data->ipython>=7.23.1->ipykernel>=6.5.0->jupyterlab<4.5,>=4.4.3->notebook) (2.2.0)\n",
      "Requirement already satisfied: asttokens>=2.1.0 in /home/bak/miniconda3/envs/pv/lib/python3.10/site-packages (from stack_data->ipython>=7.23.1->ipykernel>=6.5.0->jupyterlab<4.5,>=4.4.3->notebook) (3.0.0)\n",
      "Requirement already satisfied: pure_eval in /home/bak/miniconda3/envs/pv/lib/python3.10/site-packages (from stack_data->ipython>=7.23.1->ipykernel>=6.5.0->jupyterlab<4.5,>=4.4.3->notebook) (0.2.3)\n",
      "Collecting types-python-dateutil>=2.8.10 (from arrow>=0.15.0->isoduration->jsonschema[format-nongpl]>=4.18.0->jupyter-events>=0.11.0->jupyter-server<3,>=2.4.0->notebook)\n",
      "  Downloading types_python_dateutil-2.9.0.20250516-py3-none-any.whl.metadata (2.1 kB)\n",
      "Downloading notebook-7.4.3-py3-none-any.whl (14.3 MB)\n",
      "\u001b[2K   \u001b[90m━━━━━━━━━━━━━━━━━━━━━━━━━━━━━━━━━━━━━━━━\u001b[0m \u001b[32m14.3/14.3 MB\u001b[0m \u001b[31m29.5 MB/s\u001b[0m eta \u001b[36m0:00:00\u001b[0ma \u001b[36m0:00:01\u001b[0m\n",
      "\u001b[?25hDownloading jupyter_server-2.16.0-py3-none-any.whl (386 kB)\n",
      "Downloading jupyterlab-4.4.3-py3-none-any.whl (12.3 MB)\n",
      "\u001b[2K   \u001b[90m━━━━━━━━━━━━━━━━━━━━━━━━━━━━━━━━━━━━━━━━\u001b[0m \u001b[32m12.3/12.3 MB\u001b[0m \u001b[31m30.9 MB/s\u001b[0m eta \u001b[36m0:00:00\u001b[0m \u001b[36m0:00:01\u001b[0m\n",
      "\u001b[?25hUsing cached jupyterlab_server-2.27.3-py3-none-any.whl (59 kB)\n",
      "Using cached notebook_shim-0.2.4-py3-none-any.whl (13 kB)\n",
      "Downloading tornado-6.5.1-cp39-abi3-manylinux_2_5_x86_64.manylinux1_x86_64.manylinux_2_17_x86_64.manylinux2014_x86_64.whl (443 kB)\n",
      "Using cached anyio-4.9.0-py3-none-any.whl (100 kB)\n",
      "Using cached argon2_cffi-23.1.0-py3-none-any.whl (15 kB)\n",
      "Downloading async_lru-2.0.5-py3-none-any.whl (6.1 kB)\n",
      "Using cached babel-2.17.0-py3-none-any.whl (10.2 MB)\n",
      "Using cached httpx-0.28.1-py3-none-any.whl (73 kB)\n",
      "Downloading httpcore-1.0.9-py3-none-any.whl (78 kB)\n",
      "Using cached json5-0.12.0-py3-none-any.whl (36 kB)\n",
      "Downloading jupyter_client-8.6.3-py3-none-any.whl (106 kB)\n",
      "Downloading jupyter_events-0.12.0-py3-none-any.whl (19 kB)\n",
      "Downloading jupyter_lsp-2.2.5-py3-none-any.whl (69 kB)\n",
      "Using cached jupyter_server_terminals-0.5.3-py3-none-any.whl (13 kB)\n",
      "Using cached nbconvert-7.16.6-py3-none-any.whl (258 kB)\n",
      "Using cached overrides-7.7.0-py3-none-any.whl (17 kB)\n",
      "Downloading prometheus_client-0.22.0-py3-none-any.whl (62 kB)\n",
      "Using cached Send2Trash-1.8.3-py3-none-any.whl (18 kB)\n",
      "Using cached terminado-0.18.1-py3-none-any.whl (14 kB)\n",
      "Using cached tomli-2.2.1-py3-none-any.whl (14 kB)\n",
      "Downloading bleach-6.2.0-py3-none-any.whl (163 kB)\n",
      "Using cached mistune-3.1.3-py3-none-any.whl (53 kB)\n",
      "Downloading nbclient-0.10.2-py3-none-any.whl (25 kB)\n",
      "Using cached pandocfilters-1.5.1-py2.py3-none-any.whl (8.7 kB)\n",
      "Using cached python_json_logger-3.3.0-py3-none-any.whl (15 kB)\n",
      "Using cached rfc3986_validator-0.1.1-py2.py3-none-any.whl (4.2 kB)\n",
      "Using cached argon2_cffi_bindings-21.2.0-cp36-abi3-manylinux_2_17_x86_64.manylinux2014_x86_64.whl (86 kB)\n",
      "Using cached beautifulsoup4-4.13.4-py3-none-any.whl (187 kB)\n",
      "Using cached defusedxml-0.7.1-py2.py3-none-any.whl (25 kB)\n",
      "Using cached jupyterlab_pygments-0.3.0-py3-none-any.whl (15 kB)\n",
      "Using cached rfc3339_validator-0.1.4-py2.py3-none-any.whl (3.5 kB)\n",
      "Using cached cffi-1.17.1-cp310-cp310-manylinux_2_17_x86_64.manylinux2014_x86_64.whl (446 kB)\n",
      "Using cached jsonpointer-3.0.0-py2.py3-none-any.whl (7.6 kB)\n",
      "Using cached soupsieve-2.7-py3-none-any.whl (36 kB)\n",
      "Downloading tinycss2-1.4.0-py3-none-any.whl (26 kB)\n",
      "Downloading webcolors-24.11.1-py3-none-any.whl (14 kB)\n",
      "Using cached webencodings-0.5.1-py2.py3-none-any.whl (11 kB)\n",
      "Using cached fqdn-1.5.1-py3-none-any.whl (9.1 kB)\n",
      "Using cached isoduration-20.11.0-py3-none-any.whl (11 kB)\n",
      "Using cached uri_template-1.3.0-py3-none-any.whl (11 kB)\n",
      "Using cached arrow-1.3.0-py3-none-any.whl (66 kB)\n",
      "Using cached pycparser-2.22-py3-none-any.whl (117 kB)\n",
      "Downloading types_python_dateutil-2.9.0.20250516-py3-none-any.whl (14 kB)\n",
      "Installing collected packages: webencodings, webcolors, uri-template, types-python-dateutil, tornado, tomli, tinycss2, soupsieve, send2trash, rfc3986-validator, rfc3339-validator, python-json-logger, pycparser, prometheus-client, pandocfilters, overrides, mistune, jupyterlab-pygments, jsonpointer, json5, httpcore, fqdn, defusedxml, bleach, babel, async-lru, terminado, jupyter-client, cffi, beautifulsoup4, arrow, anyio, jupyter-server-terminals, isoduration, httpx, argon2-cffi-bindings, argon2-cffi, nbclient, jupyter-events, nbconvert, jupyter-server, notebook-shim, jupyterlab-server, jupyter-lsp, jupyterlab, notebook\n",
      "  Attempting uninstall: tornado\n",
      "    Found existing installation: tornado 6.1\n",
      "    Uninstalling tornado-6.1:\n",
      "      Successfully uninstalled tornado-6.1\n",
      "  Attempting uninstall: jupyter-client\n",
      "    Found existing installation: jupyter-client 7.3.4\n",
      "    Uninstalling jupyter-client-7.3.4:\n",
      "      Successfully uninstalled jupyter-client-7.3.4\n",
      "Successfully installed anyio-4.9.0 argon2-cffi-23.1.0 argon2-cffi-bindings-21.2.0 arrow-1.3.0 async-lru-2.0.5 babel-2.17.0 beautifulsoup4-4.13.4 bleach-6.2.0 cffi-1.17.1 defusedxml-0.7.1 fqdn-1.5.1 httpcore-1.0.9 httpx-0.28.1 isoduration-20.11.0 json5-0.12.0 jsonpointer-3.0.0 jupyter-client-8.6.3 jupyter-events-0.12.0 jupyter-lsp-2.2.5 jupyter-server-2.16.0 jupyter-server-terminals-0.5.3 jupyterlab-4.4.3 jupyterlab-pygments-0.3.0 jupyterlab-server-2.27.3 mistune-3.1.3 nbclient-0.10.2 nbconvert-7.16.6 notebook-7.4.3 notebook-shim-0.2.4 overrides-7.7.0 pandocfilters-1.5.1 prometheus-client-0.22.0 pycparser-2.22 python-json-logger-3.3.0 rfc3339-validator-0.1.4 rfc3986-validator-0.1.1 send2trash-1.8.3 soupsieve-2.7 terminado-0.18.1 tinycss2-1.4.0 tomli-2.2.1 tornado-6.5.1 types-python-dateutil-2.9.0.20250516 uri-template-1.3.0 webcolors-24.11.1 webencodings-0.5.1\n"
     ]
    }
   ],
   "source": [
    "!pip install notebook"
   ]
  },
  {
   "cell_type": "code",
   "execution_count": 6,
   "metadata": {},
   "outputs": [
    {
     "name": "stderr",
     "output_type": "stream",
     "text": [
      "findfont: Font family 'Times New Roman' not found.\n",
      "findfont: Font family 'Times New Roman' not found.\n",
      "findfont: Font family 'Times New Roman' not found.\n",
      "findfont: Font family 'Times New Roman' not found.\n",
      "findfont: Font family 'Times New Roman' not found.\n",
      "findfont: Font family 'Times New Roman' not found.\n",
      "findfont: Font family 'Times New Roman' not found.\n",
      "findfont: Font family 'Times New Roman' not found.\n",
      "findfont: Font family 'Times New Roman' not found.\n",
      "findfont: Font family 'Times New Roman' not found.\n",
      "findfont: Font family 'Times New Roman' not found.\n",
      "findfont: Font family 'Times New Roman' not found.\n",
      "findfont: Font family 'Times New Roman' not found.\n",
      "findfont: Font family 'Times New Roman' not found.\n",
      "findfont: Font family 'Times New Roman' not found.\n",
      "findfont: Font family 'Times New Roman' not found.\n",
      "findfont: Font family 'Times New Roman' not found.\n",
      "findfont: Font family 'Times New Roman' not found.\n",
      "findfont: Font family 'Times New Roman' not found.\n",
      "findfont: Font family 'Times New Roman' not found.\n",
      "findfont: Font family 'Times New Roman' not found.\n",
      "findfont: Font family 'Times New Roman' not found.\n",
      "findfont: Font family 'Times New Roman' not found.\n",
      "findfont: Font family 'Times New Roman' not found.\n",
      "findfont: Font family 'Times New Roman' not found.\n",
      "findfont: Font family 'Times New Roman' not found.\n",
      "findfont: Font family 'Times New Roman' not found.\n",
      "findfont: Font family 'Times New Roman' not found.\n",
      "findfont: Font family 'Times New Roman' not found.\n",
      "findfont: Font family 'Times New Roman' not found.\n",
      "findfont: Font family 'Times New Roman' not found.\n",
      "findfont: Font family 'Times New Roman' not found.\n",
      "findfont: Font family 'Times New Roman' not found.\n",
      "findfont: Font family 'Times New Roman' not found.\n",
      "findfont: Font family 'Times New Roman' not found.\n",
      "findfont: Font family 'Times New Roman' not found.\n",
      "findfont: Font family 'Times New Roman' not found.\n",
      "findfont: Font family 'Times New Roman' not found.\n",
      "findfont: Font family 'Times New Roman' not found.\n",
      "findfont: Font family 'Times New Roman' not found.\n",
      "findfont: Font family 'Times New Roman' not found.\n",
      "findfont: Font family 'Times New Roman' not found.\n",
      "findfont: Font family 'Times New Roman' not found.\n",
      "findfont: Font family 'Times New Roman' not found.\n",
      "findfont: Font family 'Times New Roman' not found.\n",
      "findfont: Font family 'Times New Roman' not found.\n",
      "findfont: Font family 'Times New Roman' not found.\n",
      "findfont: Font family 'Times New Roman' not found.\n",
      "findfont: Font family 'Times New Roman' not found.\n",
      "findfont: Font family 'Times New Roman' not found.\n",
      "findfont: Font family 'Times New Roman' not found.\n",
      "findfont: Font family 'Times New Roman' not found.\n",
      "findfont: Font family 'Times New Roman' not found.\n",
      "findfont: Font family 'Times New Roman' not found.\n",
      "findfont: Font family 'Times New Roman' not found.\n",
      "findfont: Font family 'Times New Roman' not found.\n",
      "findfont: Font family 'Times New Roman' not found.\n",
      "findfont: Font family 'Times New Roman' not found.\n",
      "findfont: Font family 'Times New Roman' not found.\n",
      "findfont: Font family 'Times New Roman' not found.\n",
      "findfont: Font family 'Times New Roman' not found.\n",
      "findfont: Font family 'Times New Roman' not found.\n",
      "findfont: Font family 'Times New Roman' not found.\n",
      "findfont: Font family 'Times New Roman' not found.\n",
      "findfont: Font family 'Times New Roman' not found.\n",
      "findfont: Font family 'Times New Roman' not found.\n",
      "findfont: Font family 'Times New Roman' not found.\n",
      "findfont: Font family 'Times New Roman' not found.\n",
      "findfont: Font family 'Times New Roman' not found.\n",
      "findfont: Font family 'Times New Roman' not found.\n",
      "findfont: Font family 'Times New Roman' not found.\n",
      "findfont: Font family 'Times New Roman' not found.\n",
      "findfont: Font family 'Times New Roman' not found.\n",
      "findfont: Font family 'Times New Roman' not found.\n",
      "findfont: Font family 'Times New Roman' not found.\n",
      "findfont: Font family 'Times New Roman' not found.\n",
      "findfont: Font family 'Times New Roman' not found.\n",
      "findfont: Font family 'Times New Roman' not found.\n",
      "findfont: Font family 'Times New Roman' not found.\n",
      "findfont: Font family 'Times New Roman' not found.\n",
      "findfont: Font family 'Times New Roman' not found.\n",
      "findfont: Font family 'Times New Roman' not found.\n",
      "findfont: Font family 'Times New Roman' not found.\n",
      "findfont: Font family 'Times New Roman' not found.\n",
      "findfont: Font family 'Times New Roman' not found.\n",
      "findfont: Font family 'Times New Roman' not found.\n",
      "findfont: Font family 'Times New Roman' not found.\n",
      "findfont: Font family 'Times New Roman' not found.\n",
      "findfont: Font family 'Times New Roman' not found.\n",
      "findfont: Font family 'Times New Roman' not found.\n",
      "findfont: Font family 'Times New Roman' not found.\n",
      "findfont: Font family 'Times New Roman' not found.\n",
      "findfont: Font family 'Times New Roman' not found.\n",
      "findfont: Font family 'Times New Roman' not found.\n",
      "findfont: Font family 'Times New Roman' not found.\n",
      "findfont: Font family 'Times New Roman' not found.\n",
      "findfont: Font family 'Times New Roman' not found.\n",
      "findfont: Font family 'Times New Roman' not found.\n",
      "findfont: Font family 'Times New Roman' not found.\n",
      "findfont: Font family 'Times New Roman' not found.\n",
      "findfont: Font family 'Times New Roman' not found.\n",
      "findfont: Font family 'Times New Roman' not found.\n",
      "findfont: Font family 'Times New Roman' not found.\n",
      "findfont: Font family 'Times New Roman' not found.\n",
      "findfont: Font family 'Times New Roman' not found.\n",
      "findfont: Font family 'Times New Roman' not found.\n",
      "findfont: Font family 'Times New Roman' not found.\n",
      "findfont: Font family 'Times New Roman' not found.\n",
      "findfont: Font family 'Times New Roman' not found.\n",
      "findfont: Font family 'Times New Roman' not found.\n",
      "findfont: Font family 'Times New Roman' not found.\n",
      "findfont: Font family 'Times New Roman' not found.\n",
      "findfont: Font family 'Times New Roman' not found.\n",
      "findfont: Font family 'Times New Roman' not found.\n",
      "findfont: Font family 'Times New Roman' not found.\n",
      "findfont: Font family 'Times New Roman' not found.\n",
      "findfont: Font family 'Times New Roman' not found.\n",
      "findfont: Font family 'Times New Roman' not found.\n",
      "findfont: Font family 'Times New Roman' not found.\n",
      "findfont: Font family 'Times New Roman' not found.\n",
      "findfont: Font family 'Times New Roman' not found.\n",
      "findfont: Font family 'Times New Roman' not found.\n",
      "findfont: Font family 'Times New Roman' not found.\n",
      "findfont: Font family 'Times New Roman' not found.\n",
      "findfont: Font family 'Times New Roman' not found.\n",
      "findfont: Font family 'Times New Roman' not found.\n",
      "findfont: Font family 'Times New Roman' not found.\n",
      "findfont: Font family 'Times New Roman' not found.\n",
      "findfont: Font family 'Times New Roman' not found.\n",
      "findfont: Font family 'Times New Roman' not found.\n",
      "findfont: Font family 'Times New Roman' not found.\n",
      "findfont: Font family 'Times New Roman' not found.\n",
      "findfont: Font family 'Times New Roman' not found.\n",
      "findfont: Font family 'Times New Roman' not found.\n",
      "findfont: Font family 'Times New Roman' not found.\n",
      "findfont: Font family 'Times New Roman' not found.\n",
      "findfont: Font family 'Times New Roman' not found.\n",
      "findfont: Font family 'Times New Roman' not found.\n",
      "findfont: Font family 'Times New Roman' not found.\n",
      "findfont: Font family 'Times New Roman' not found.\n",
      "findfont: Font family 'Times New Roman' not found.\n",
      "findfont: Font family 'Times New Roman' not found.\n",
      "findfont: Font family 'Times New Roman' not found.\n",
      "findfont: Font family 'Times New Roman' not found.\n",
      "findfont: Font family 'Times New Roman' not found.\n",
      "findfont: Font family 'Times New Roman' not found.\n",
      "findfont: Font family 'Times New Roman' not found.\n",
      "findfont: Font family 'Times New Roman' not found.\n",
      "findfont: Font family 'Times New Roman' not found.\n",
      "findfont: Font family 'Times New Roman' not found.\n",
      "findfont: Font family 'Times New Roman' not found.\n",
      "findfont: Font family 'Times New Roman' not found.\n",
      "findfont: Font family 'Times New Roman' not found.\n",
      "findfont: Font family 'Times New Roman' not found.\n",
      "findfont: Font family 'Times New Roman' not found.\n",
      "findfont: Font family 'Times New Roman' not found.\n",
      "findfont: Font family 'Times New Roman' not found.\n",
      "findfont: Font family 'Times New Roman' not found.\n",
      "findfont: Font family 'Times New Roman' not found.\n",
      "findfont: Font family 'Times New Roman' not found.\n",
      "findfont: Font family 'Times New Roman' not found.\n",
      "findfont: Font family 'Times New Roman' not found.\n",
      "findfont: Font family 'Times New Roman' not found.\n",
      "findfont: Font family 'Times New Roman' not found.\n",
      "findfont: Font family 'Times New Roman' not found.\n",
      "findfont: Font family 'Times New Roman' not found.\n",
      "findfont: Font family 'Times New Roman' not found.\n",
      "findfont: Font family 'Times New Roman' not found.\n",
      "findfont: Font family 'Times New Roman' not found.\n",
      "findfont: Font family 'Times New Roman' not found.\n",
      "findfont: Font family 'Times New Roman' not found.\n",
      "findfont: Font family 'Times New Roman' not found.\n",
      "findfont: Font family 'Times New Roman' not found.\n",
      "findfont: Font family 'Times New Roman' not found.\n",
      "findfont: Font family 'Times New Roman' not found.\n",
      "findfont: Font family 'Times New Roman' not found.\n",
      "findfont: Font family 'Times New Roman' not found.\n",
      "findfont: Font family 'Times New Roman' not found.\n",
      "findfont: Font family 'Times New Roman' not found.\n",
      "findfont: Font family 'Times New Roman' not found.\n",
      "findfont: Font family 'Times New Roman' not found.\n",
      "findfont: Font family 'Times New Roman' not found.\n",
      "findfont: Font family 'Times New Roman' not found.\n",
      "findfont: Font family 'Times New Roman' not found.\n",
      "findfont: Font family 'Times New Roman' not found.\n",
      "findfont: Font family 'Times New Roman' not found.\n",
      "findfont: Font family 'Times New Roman' not found.\n",
      "findfont: Font family 'Times New Roman' not found.\n",
      "findfont: Font family 'Times New Roman' not found.\n",
      "findfont: Font family 'Times New Roman' not found.\n",
      "findfont: Font family 'Times New Roman' not found.\n",
      "findfont: Font family 'Times New Roman' not found.\n",
      "findfont: Font family 'Times New Roman' not found.\n",
      "findfont: Font family 'Times New Roman' not found.\n",
      "findfont: Font family 'Times New Roman' not found.\n",
      "findfont: Font family 'Times New Roman' not found.\n",
      "findfont: Font family 'Times New Roman' not found.\n",
      "findfont: Font family 'Times New Roman' not found.\n",
      "findfont: Font family 'Times New Roman' not found.\n",
      "findfont: Font family 'Times New Roman' not found.\n",
      "findfont: Font family 'Times New Roman' not found.\n",
      "findfont: Font family 'Times New Roman' not found.\n",
      "findfont: Font family 'Times New Roman' not found.\n",
      "findfont: Font family 'Times New Roman' not found.\n",
      "findfont: Font family 'Times New Roman' not found.\n",
      "findfont: Font family 'Times New Roman' not found.\n",
      "findfont: Font family 'Times New Roman' not found.\n",
      "findfont: Font family 'Times New Roman' not found.\n",
      "findfont: Font family 'Times New Roman' not found.\n",
      "findfont: Font family 'Times New Roman' not found.\n",
      "findfont: Font family 'Times New Roman' not found.\n",
      "findfont: Font family 'Times New Roman' not found.\n",
      "findfont: Font family 'Times New Roman' not found.\n",
      "findfont: Font family 'Times New Roman' not found.\n",
      "findfont: Font family 'Times New Roman' not found.\n",
      "findfont: Font family 'Times New Roman' not found.\n",
      "findfont: Font family 'Times New Roman' not found.\n",
      "findfont: Font family 'Times New Roman' not found.\n",
      "findfont: Font family 'Times New Roman' not found.\n",
      "findfont: Font family 'Times New Roman' not found.\n",
      "findfont: Font family 'Times New Roman' not found.\n",
      "findfont: Font family 'Times New Roman' not found.\n",
      "findfont: Font family 'Times New Roman' not found.\n",
      "findfont: Font family 'Times New Roman' not found.\n",
      "findfont: Font family 'Times New Roman' not found.\n",
      "findfont: Font family 'Times New Roman' not found.\n",
      "findfont: Font family 'Times New Roman' not found.\n",
      "findfont: Font family 'Times New Roman' not found.\n",
      "findfont: Font family 'Times New Roman' not found.\n",
      "findfont: Font family 'Times New Roman' not found.\n",
      "findfont: Font family 'Times New Roman' not found.\n",
      "findfont: Font family 'Times New Roman' not found.\n",
      "findfont: Font family 'Times New Roman' not found.\n",
      "findfont: Font family 'Times New Roman' not found.\n",
      "findfont: Font family 'Times New Roman' not found.\n",
      "findfont: Font family 'Times New Roman' not found.\n",
      "findfont: Font family 'Times New Roman' not found.\n",
      "findfont: Font family 'Times New Roman' not found.\n",
      "findfont: Font family 'Times New Roman' not found.\n",
      "findfont: Font family 'Times New Roman' not found.\n",
      "findfont: Font family 'Times New Roman' not found.\n",
      "findfont: Font family 'Times New Roman' not found.\n",
      "findfont: Font family 'Times New Roman' not found.\n",
      "findfont: Font family 'Times New Roman' not found.\n",
      "findfont: Font family 'Times New Roman' not found.\n",
      "findfont: Font family 'Times New Roman' not found.\n",
      "findfont: Font family 'Times New Roman' not found.\n",
      "findfont: Font family 'Times New Roman' not found.\n",
      "findfont: Font family 'Times New Roman' not found.\n",
      "findfont: Font family 'Times New Roman' not found.\n",
      "findfont: Font family 'Times New Roman' not found.\n",
      "findfont: Font family 'Times New Roman' not found.\n",
      "findfont: Font family 'Times New Roman' not found.\n",
      "findfont: Font family 'Times New Roman' not found.\n",
      "findfont: Font family 'Times New Roman' not found.\n",
      "findfont: Font family 'Times New Roman' not found.\n",
      "findfont: Font family 'Times New Roman' not found.\n",
      "findfont: Font family 'Times New Roman' not found.\n",
      "findfont: Font family 'Times New Roman' not found.\n",
      "findfont: Font family 'Times New Roman' not found.\n",
      "findfont: Font family 'Times New Roman' not found.\n",
      "findfont: Font family 'Times New Roman' not found.\n",
      "findfont: Font family 'Times New Roman' not found.\n",
      "findfont: Font family 'Times New Roman' not found.\n",
      "findfont: Font family 'Times New Roman' not found.\n",
      "findfont: Font family 'Times New Roman' not found.\n",
      "findfont: Font family 'Times New Roman' not found.\n",
      "findfont: Font family 'Times New Roman' not found.\n",
      "findfont: Font family 'Times New Roman' not found.\n",
      "findfont: Font family 'Times New Roman' not found.\n",
      "findfont: Font family 'Times New Roman' not found.\n",
      "findfont: Font family 'Times New Roman' not found.\n",
      "findfont: Font family 'Times New Roman' not found.\n",
      "findfont: Font family 'Times New Roman' not found.\n",
      "findfont: Font family 'Times New Roman' not found.\n",
      "findfont: Font family 'Times New Roman' not found.\n",
      "findfont: Font family 'Times New Roman' not found.\n",
      "findfont: Font family 'Times New Roman' not found.\n",
      "findfont: Font family 'Times New Roman' not found.\n",
      "findfont: Font family 'Times New Roman' not found.\n",
      "findfont: Font family 'Times New Roman' not found.\n",
      "findfont: Font family 'Times New Roman' not found.\n",
      "findfont: Font family 'Times New Roman' not found.\n",
      "findfont: Font family 'Times New Roman' not found.\n",
      "findfont: Font family 'Times New Roman' not found.\n",
      "findfont: Font family 'Times New Roman' not found.\n",
      "findfont: Font family 'Times New Roman' not found.\n",
      "findfont: Font family 'Times New Roman' not found.\n",
      "findfont: Font family 'Times New Roman' not found.\n",
      "findfont: Font family 'Times New Roman' not found.\n",
      "findfont: Font family 'Times New Roman' not found.\n",
      "findfont: Font family 'Times New Roman' not found.\n",
      "findfont: Font family 'Times New Roman' not found.\n",
      "findfont: Font family 'Times New Roman' not found.\n",
      "findfont: Font family 'Times New Roman' not found.\n",
      "findfont: Font family 'Times New Roman' not found.\n",
      "findfont: Font family 'Times New Roman' not found.\n",
      "findfont: Font family 'Times New Roman' not found.\n",
      "findfont: Font family 'Times New Roman' not found.\n",
      "findfont: Font family 'Times New Roman' not found.\n",
      "findfont: Font family 'Times New Roman' not found.\n",
      "findfont: Font family 'Times New Roman' not found.\n",
      "findfont: Font family 'Times New Roman' not found.\n",
      "findfont: Font family 'Times New Roman' not found.\n",
      "findfont: Font family 'Times New Roman' not found.\n",
      "findfont: Font family 'Times New Roman' not found.\n",
      "findfont: Font family 'Times New Roman' not found.\n",
      "findfont: Font family 'Times New Roman' not found.\n",
      "findfont: Font family 'Times New Roman' not found.\n",
      "findfont: Font family 'Times New Roman' not found.\n"
     ]
    },
    {
     "data": {
      "image/png": "[encoded data removed]",
      "text/plain": [
       "<Figure size 2000x1600 with 9 Axes>"
      ]
     },
     "metadata": {},
     "output_type": "display_data"
    }
   ],
   "source": [
    "import matplotlib.pyplot as plt\n",
    "import numpy as np\n",
    "from matplotlib import gridspec\n",
    "\n",
    "def create_subplot_with_broken_axis(fig, gs, data, title, break_points, y_ranges, show_ylabel=True, show_xlabel=False, fontsize=40, title_offset=2, tick_offset=-2):\n",
    "    \"\"\"\n",
    "    서브플롯을 생성하고 필요한 경우 축을 끊어서 표현하는 함수\n",
    "    \n",
    "    Parameters:\n",
    "        fig (Figure): matplotlib figure 객체\n",
    "        gs (GridSpec): GridSpec 객체\n",
    "        data (list): 그래프에 표시할 데이터\n",
    "        title (str): 서브플롯 제목\n",
    "        break_points (list): 축을 끊을 지점\n",
    "        y_ranges (list): y축의 범위\n",
    "        show_ylabel (bool): y축 레이블 표시 여부\n",
    "        show_xlabel (bool): x축 레이블 표시 여부\n",
    "        fontsize (int): 폰트 크기\n",
    "    \"\"\"\n",
    "    ax1 = fig.add_subplot(gs[0])\n",
    "    ax2 = fig.add_subplot(gs[1])\n",
    "    \n",
    "    x = np.arange(len(categories))\n",
    "    width = 0.7\n",
    "    \n",
    "    # 색상 할당\n",
    "    colors = assign_highlight_colors(data)\n",
    "    \n",
    "    # 막대 그래프 그리기\n",
    "    for i, (value, color) in enumerate(zip(data, colors)):\n",
    "        ax1.bar(x[i], value, width, color=color)\n",
    "        ax2.bar(x[i], value, width, color=color)\n",
    "    \n",
    "    # 테두리 굵기 설정\n",
    "    for spine in ax1.spines.values():\n",
    "        spine.set_linewidth(2)\n",
    "    for spine in ax2.spines.values():\n",
    "        spine.set_linewidth(2)\n",
    "\n",
    "    # y축 범위 설정\n",
    "    ax1.set_ylim(y_ranges[1])\n",
    "    ax2.set_ylim(y_ranges[0])\n",
    "    \n",
    "    # 축이 끊어진 표시 추가\n",
    "    ax1.spines.bottom.set_visible(False)\n",
    "    ax2.spines.top.set_visible(False)\n",
    "    ax1.tick_params(labeltop=False, labelbottom=False, top=False, bottom=False)\n",
    "    ax1.tick_params(direction='in', length=10, width=2, pad=7)\n",
    "    \n",
    "    # 끊어진 부분 표시\n",
    "    d = 0.02\n",
    "    kwargs = dict(transform=ax1.transAxes, color='gray', clip_on=False)\n",
    "    ax1.plot((-d, +d), (-d, +d), **kwargs)\n",
    "    ax1.plot((1-d, 1+d), (-d, +d), **kwargs)\n",
    "    \n",
    "    kwargs.update(transform=ax2.transAxes)\n",
    "    ax2.plot((-d, +d), (1-d, 1+d), **kwargs)\n",
    "    ax2.plot((1-d, 1+d), (1-d, 1+d), **kwargs)\n",
    "    \n",
    "    # 제목 설정\n",
    "    ax1.set_title(title, pad=20, fontsize=fontsize+title_offset)\n",
    "    \n",
    "    # y축 레이블\n",
    "    if show_ylabel:\n",
    "        x_pos, y_pos = calculate_mape_position(fig, [ax1, ax2])\n",
    "        fig.text(x_pos, y_pos, 'MAPE [%]', rotation=90, va='center', fontsize=fontsize)\n",
    "    \n",
    "    # x축 설정\n",
    "    ax2.set_xticks(x)\n",
    "    ax2.set_xticklabels(categories, rotation=0, ha='center', fontsize=fontsize+tick_offset)\n",
    "    ax2.tick_params(length=0)  # 눈금 제거\n",
    "    \n",
    "    if show_xlabel:\n",
    "        ax2.set_xlabel(\"Number of freeze layers\", fontsize=fontsize, labelpad=20)\n",
    "    \n",
    "    # 그리드 추가\n",
    "    ax1.yaxis.grid(True, linestyle='--', alpha=0.3, zorder=0)\n",
    "    ax2.yaxis.grid(True, linestyle='--', alpha=0.3, zorder=0)\n",
    "    \n",
    "    # tick 폰트 크기 설정\n",
    "    ax1.tick_params(axis='y', labelsize=fontsize+tick_offset)\n",
    "    ax2.tick_params(axis='both', labelsize=fontsize+tick_offset)\n",
    "\n",
    "def create_normal_subplot(ax, data, title, y_range, show_ylabel=True, show_xlabel=False, fontsize=40, title_offset=2, tick_offset=-2):\n",
    "    \"\"\"일반 서브플롯 생성 함수\"\"\"\n",
    "    x = np.arange(len(categories))\n",
    "    colors = assign_highlight_colors(data)\n",
    "    \n",
    "    for i, (value, color) in enumerate(zip(data, colors)):\n",
    "        ax.bar(x[i], value, width=0.7, color=color)\n",
    "    \n",
    "    for spine in ax.spines.values():\n",
    "        spine.set_linewidth(2)\n",
    "\n",
    "    ax.set_title(title, pad=20, fontsize=fontsize+title_offset)\n",
    "    \n",
    "    if show_ylabel:\n",
    "        x_pos, y_pos = calculate_mape_position(fig, ax)\n",
    "        fig.text(x_pos, y_pos, 'MAPE [%]', rotation=90, va='center', fontsize=fontsize)\n",
    "    \n",
    "    ax.set_xticks(x)\n",
    "    ax.set_xticklabels(categories, rotation=0, ha='center', fontsize=fontsize+tick_offset)\n",
    "    \n",
    "    if show_xlabel:\n",
    "        ax.set_xlabel(\"Number of freeze layers\", fontsize=fontsize, labelpad=20)\n",
    "    \n",
    "    ax.tick_params(length=0)  # 눈금 제거\n",
    "    ax.set_ylim(y_range)\n",
    "    ax.yaxis.grid(True, linestyle='--', alpha=0.3, zorder=0)\n",
    "    ax.tick_params(axis='both', labelsize=fontsize+tick_offset)\n",
    "\n",
    "def calculate_mape_position(fig, axes):\n",
    "    \"\"\"MAPE 레이블 위치 계산\"\"\"\n",
    "    fig.canvas.draw()\n",
    "    \n",
    "    if isinstance(axes, list):\n",
    "        ax1, ax2 = axes\n",
    "        bbox1 = ax1.get_position()\n",
    "        bbox2 = ax2.get_position()\n",
    "        y_pos = (bbox1.y0 + bbox1.y1 + bbox2.y0 + bbox2.y1) / 4\n",
    "    else:\n",
    "        bbox = axes.get_position()\n",
    "        y_pos = bbox.y0 + bbox.height / 2\n",
    "    \n",
    "    return 0.05, y_pos\n",
    "\n",
    "def assign_highlight_colors(data):\n",
    "    \"\"\"최소값 강조 색상 할당\"\"\"\n",
    "    sorted_indices = np.argsort(data)\n",
    "    min_idx = sorted_indices[0]\n",
    "    second_min_idx = sorted_indices[1]\n",
    "    \n",
    "    colors = ['#5E6064'] * len(data)\n",
    "    colors[second_min_idx] = \"#826163FF\"\n",
    "    colors[min_idx] = \"#FF0011\"\n",
    "    \n",
    "    return colors\n",
    "\n",
    "def create_freeze_layers_plot(fontsize=40):\n",
    "    \"\"\"전체 그래프 생성 함수\"\"\"\n",
    "    plt.style.use('default')\n",
    "    plt.rcParams['font.family'] = 'Times New Roman'\n",
    "    \n",
    "    fig = plt.figure(figsize=(20, 16))\n",
    "    outer_grid = gridspec.GridSpec(3, 2, figure=fig, hspace=0.5, wspace=0.3)\n",
    "    \n",
    "    for idx, region in enumerate(plot_order):\n",
    "        settings = plot_settings[region]\n",
    "        values = data[region]\n",
    "        show_ylabel = idx % 2 == 0\n",
    "        show_xlabel = idx >= len(plot_order) - 2\n",
    "        \n",
    "        if settings['break_points']:\n",
    "            inner_grid = gridspec.GridSpecFromSubplotSpec(2, 1,\n",
    "                                                        subplot_spec=outer_grid[idx],\n",
    "                                                        height_ratios=[1, 1],\n",
    "                                                        hspace=0.1)\n",
    "            create_subplot_with_broken_axis(fig, inner_grid, values, region,\n",
    "                                          settings['break_points'],\n",
    "                                          settings['y_ranges'],\n",
    "                                          show_ylabel,\n",
    "                                          show_xlabel,\n",
    "                                          fontsize)\n",
    "        else:\n",
    "            ax = fig.add_subplot(outer_grid[idx])\n",
    "            create_normal_subplot(ax, values, region, settings['y_ranges'][0],\n",
    "                                show_ylabel, show_xlabel, fontsize)\n",
    "    \n",
    "    return fig\n",
    "\n",
    "# 데이터 및 설정\n",
    "categories = ['0', '1', '2', '3', '4', '5', '6', '7', '8']\n",
    "data = {\n",
    "    'GIST': [1.6293, 1.6008, 1.6438, 1.6514, 1.7037, 1.8012, 2.0653, 2.7289, 5.4627],\n",
    "    'Germany': [3.143, 2.1378, 2.1593, 2.2060, 2.2770, 2.3981, 2.6558, 3.1809, 4.9441],\n",
    "    'Miryang': [3.1986, 2.3044, 2.3204, 2.3256, 2.3348, 2.3628, 2.4544, 2.7459, 3.4867],\n",
    "    'California': [5.2096, 5.2434, 5.2638, 5.2827, 5.3013, 5.3254, 5.3791, 5.1777, 5.1154],\n",
    "    'Georgia': [6.4877, 6.4395, 6.463, 6.4671, 6.49, 6.506, 6.4227, 6.2644, 6.1461],\n",
    "    'UK': [9.0415, 8.3173, 8.308, 8.2876, 8.3863, 8.5353, 8.5398, 7.4664, 7.8598]\n",
    "}\n",
    "\n",
    "plot_settings = {\n",
    "    'GIST': {\n",
    "        'break_points': [1.65, 1.65],\n",
    "        'y_ranges': [(1.5, 1.65), (1.65, 5.8)]\n",
    "    },\n",
    "    'Germany': {\n",
    "        'break_points': [2.8, 3.0],\n",
    "        'y_ranges': [(1.8, 2.7), (3.0, 6.5)]\n",
    "    },\n",
    "    'Miryang': {\n",
    "        'break_points': [2.5, 2.6],\n",
    "        'y_ranges': [(2.2, 2.5), (2.6, 3.7)]\n",
    "    },\n",
    "    'California': {\n",
    "        'break_points': None,\n",
    "        'y_ranges': [(5.0, 5.4)]\n",
    "    },\n",
    "    'Georgia': {\n",
    "        'break_points': None,\n",
    "        'y_ranges': [(6.0, 6.6)]\n",
    "    },\n",
    "    'UK': {\n",
    "        'break_points': None,\n",
    "        'y_ranges': [(7, 9.2)]\n",
    "    }\n",
    "}\n",
    "\n",
    "plot_order = ['GIST', 'California', 'Germany', 'Georgia', 'Miryang', 'UK']\n",
    "\n",
    "if __name__ == \"__main__\":\n",
    "    fig = create_freeze_layers_plot(fontsize=34)\n",
    "    plt.show()\n",
    "    # plt.savefig('freeze_layers_plot.pdf', bbox_inches='tight', dpi=300)"
   ]
  },
  {
   "cell_type": "code",
   "execution_count": 16,
   "metadata": {},
   "outputs": [
    {
     "data": {
      "application/vnd.plotly.v1+json": {
       "config": {
        "plotlyServerURL": "https://plot.ly"
       },
       "data": [
        {
         "marker": {
          "color": "rgb(255, 0, 0)",
          "pattern": {
           "shape": "",
           "size": 6
          }
         },
         "name": "Fine-Tuning",
         "type": "bar",
         "x": [
          "GIST",
          "Germany",
          "Miryang",
          "California",
          "Georgia",
          "UK"
         ],
         "y": [
          1.6008,
          2.1378,
          2.3044,
          5.1154,
          6.1461,
          7.4664
         ]
        },
        {
         "marker": {
          "color": "rgb(117, 81, 57)",
          "pattern": {
           "shape": "/",
           "size": 6
          }
         },
         "name": "Linear Probing",
         "type": "bar",
         "x": [
          "GIST",
          "Germany",
          "Miryang",
          "California",
          "Georgia",
          "UK"
         ],
         "y": [
          5.376,
          4.9441,
          3.4867,
          5.1154,
          6.1396,
          7.8598
         ]
        },
        {
         "marker": {
          "color": "rgb(92, 44, 53)",
          "pattern": {
           "shape": ".",
           "size": 6
          }
         },
         "name": "Zero-Shot",
         "type": "bar",
         "x": [
          "GIST",
          "Germany",
          "Miryang",
          "California",
          "Georgia",
          "UK"
         ],
         "y": [
          6.127,
          6.2408,
          3.7475,
          5.2956,
          6.1932,
          8.6286
         ]
        },
        {
         "marker": {
          "color": "rgb(16, 59, 88)",
          "pattern": {
           "shape": "\\",
           "size": 6
          }
         },
         "name": "Target-Only",
         "type": "bar",
         "x": [
          "GIST",
          "Germany",
          "Miryang",
          "California",
          "Georgia",
          "UK"
         ],
         "y": [
          2.1434,
          3.143,
          3.1991,
          5.2644,
          6.6276,
          9.0415
         ]
        }
       ],
       "layout": {
        "barmode": "group",
        "font": {
         "color": "black",
         "family": "Times New Roman",
         "size": 18
        },
        "height": 500,
        "legend": {
         "bgcolor": "white",
         "bordercolor": "black",
         "borderwidth": 2,
         "font": {
          "family": "Times New Roman",
          "size": 22
         },
         "itemsizing": "constant",
         "itemwidth": 30,
         "orientation": "h",
         "tracegroupgap": 0,
         "traceorder": "normal",
         "x": 0.5,
         "xanchor": "center",
         "y": 1.005,
         "yanchor": "top",
         "yref": "paper"
        },
        "margin": {
         "b": 50,
         "l": 50,
         "r": 50,
         "t": 70
        },
        "paper_bgcolor": "white",
        "plot_bgcolor": "white",
        "template": {
         "data": {
          "bar": [
           {
            "error_x": {
             "color": "#2a3f5f"
            },
            "error_y": {
             "color": "#2a3f5f"
            },
            "marker": {
             "line": {
              "color": "white",
              "width": 0.5
             },
             "pattern": {
              "fillmode": "overlay",
              "size": 10,
              "solidity": 0.2
             }
            },
            "type": "bar"
           }
          ],
          "barpolar": [
           {
            "marker": {
             "line": {
              "color": "white",
              "width": 0.5
             },
             "pattern": {
              "fillmode": "overlay",
              "size": 10,
              "solidity": 0.2
             }
            },
            "type": "barpolar"
           }
          ],
          "carpet": [
           {
            "aaxis": {
             "endlinecolor": "#2a3f5f",
             "gridcolor": "#C8D4E3",
             "linecolor": "#C8D4E3",
             "minorgridcolor": "#C8D4E3",
             "startlinecolor": "#2a3f5f"
            },
            "baxis": {
             "endlinecolor": "#2a3f5f",
             "gridcolor": "#C8D4E3",
             "linecolor": "#C8D4E3",
             "minorgridcolor": "#C8D4E3",
             "startlinecolor": "#2a3f5f"
            },
            "type": "carpet"
           }
          ],
          "choropleth": [
           {
            "colorbar": {
             "outlinewidth": 0,
             "ticks": ""
            },
            "type": "choropleth"
           }
          ],
          "contour": [
           {
            "colorbar": {
             "outlinewidth": 0,
             "ticks": ""
            },
            "colorscale": [
             [
              0,
              "#0d0887"
             ],
             [
              0.1111111111111111,
              "#46039f"
             ],
             [
              0.2222222222222222,
              "#7201a8"
             ],
             [
              0.3333333333333333,
              "#9c179e"
             ],
             [
              0.4444444444444444,
              "#bd3786"
             ],
             [
              0.5555555555555556,
              "#d8576b"
             ],
             [
              0.6666666666666666,
              "#ed7953"
             ],
             [
              0.7777777777777778,
              "#fb9f3a"
             ],
             [
              0.8888888888888888,
              "#fdca26"
             ],
             [
              1,
              "#f0f921"
             ]
            ],
            "type": "contour"
           }
          ],
          "contourcarpet": [
           {
            "colorbar": {
             "outlinewidth": 0,
             "ticks": ""
            },
            "type": "contourcarpet"
           }
          ],
          "heatmap": [
           {
            "colorbar": {
             "outlinewidth": 0,
             "ticks": ""
            },
            "colorscale": [
             [
              0,
              "#0d0887"
             ],
             [
              0.1111111111111111,
              "#46039f"
             ],
             [
              0.2222222222222222,
              "#7201a8"
             ],
             [
              0.3333333333333333,
              "#9c179e"
             ],
             [
              0.4444444444444444,
              "#bd3786"
             ],
             [
              0.5555555555555556,
              "#d8576b"
             ],
             [
              0.6666666666666666,
              "#ed7953"
             ],
             [
              0.7777777777777778,
              "#fb9f3a"
             ],
             [
              0.8888888888888888,
              "#fdca26"
             ],
             [
              1,
              "#f0f921"
             ]
            ],
            "type": "heatmap"
           }
          ],
          "heatmapgl": [
           {
            "colorbar": {
             "outlinewidth": 0,
             "ticks": ""
            },
            "colorscale": [
             [
              0,
              "#0d0887"
             ],
             [
              0.1111111111111111,
              "#46039f"
             ],
             [
              0.2222222222222222,
              "#7201a8"
             ],
             [
              0.3333333333333333,
              "#9c179e"
             ],
             [
              0.4444444444444444,
              "#bd3786"
             ],
             [
              0.5555555555555556,
              "#d8576b"
             ],
             [
              0.6666666666666666,
              "#ed7953"
             ],
             [
              0.7777777777777778,
              "#fb9f3a"
             ],
             [
              0.8888888888888888,
              "#fdca26"
             ],
             [
              1,
              "#f0f921"
             ]
            ],
            "type": "heatmapgl"
           }
          ],
          "histogram": [
           {
            "marker": {
             "pattern": {
              "fillmode": "overlay",
              "size": 10,
              "solidity": 0.2
             }
            },
            "type": "histogram"
           }
          ],
          "histogram2d": [
           {
            "colorbar": {
             "outlinewidth": 0,
             "ticks": ""
            },
            "colorscale": [
             [
              0,
              "#0d0887"
             ],
             [
              0.1111111111111111,
              "#46039f"
             ],
             [
              0.2222222222222222,
              "#7201a8"
             ],
             [
              0.3333333333333333,
              "#9c179e"
             ],
             [
              0.4444444444444444,
              "#bd3786"
             ],
             [
              0.5555555555555556,
              "#d8576b"
             ],
             [
              0.6666666666666666,
              "#ed7953"
             ],
             [
              0.7777777777777778,
              "#fb9f3a"
             ],
             [
              0.8888888888888888,
              "#fdca26"
             ],
             [
              1,
              "#f0f921"
             ]
            ],
            "type": "histogram2d"
           }
          ],
          "histogram2dcontour": [
           {
            "colorbar": {
             "outlinewidth": 0,
             "ticks": ""
            },
            "colorscale": [
             [
              0,
              "#0d0887"
             ],
             [
              0.1111111111111111,
              "#46039f"
             ],
             [
              0.2222222222222222,
              "#7201a8"
             ],
             [
              0.3333333333333333,
              "#9c179e"
             ],
             [
              0.4444444444444444,
              "#bd3786"
             ],
             [
              0.5555555555555556,
              "#d8576b"
             ],
             [
              0.6666666666666666,
              "#ed7953"
             ],
             [
              0.7777777777777778,
              "#fb9f3a"
             ],
             [
              0.8888888888888888,
              "#fdca26"
             ],
             [
              1,
              "#f0f921"
             ]
            ],
            "type": "histogram2dcontour"
           }
          ],
          "mesh3d": [
           {
            "colorbar": {
             "outlinewidth": 0,
             "ticks": ""
            },
            "type": "mesh3d"
           }
          ],
          "parcoords": [
           {
            "line": {
             "colorbar": {
              "outlinewidth": 0,
              "ticks": ""
             }
            },
            "type": "parcoords"
           }
          ],
          "pie": [
           {
            "automargin": true,
            "type": "pie"
           }
          ],
          "scatter": [
           {
            "fillpattern": {
             "fillmode": "overlay",
             "size": 10,
             "solidity": 0.2
            },
            "type": "scatter"
           }
          ],
          "scatter3d": [
           {
            "line": {
             "colorbar": {
              "outlinewidth": 0,
              "ticks": ""
             }
            },
            "marker": {
             "colorbar": {
              "outlinewidth": 0,
              "ticks": ""
             }
            },
            "type": "scatter3d"
           }
          ],
          "scattercarpet": [
           {
            "marker": {
             "colorbar": {
              "outlinewidth": 0,
              "ticks": ""
             }
            },
            "type": "scattercarpet"
           }
          ],
          "scattergeo": [
           {
            "marker": {
             "colorbar": {
              "outlinewidth": 0,
              "ticks": ""
             }
            },
            "type": "scattergeo"
           }
          ],
          "scattergl": [
           {
            "marker": {
             "colorbar": {
              "outlinewidth": 0,
              "ticks": ""
             }
            },
            "type": "scattergl"
           }
          ],
          "scattermapbox": [
           {
            "marker": {
             "colorbar": {
              "outlinewidth": 0,
              "ticks": ""
             }
            },
            "type": "scattermapbox"
           }
          ],
          "scatterpolar": [
           {
            "marker": {
             "colorbar": {
              "outlinewidth": 0,
              "ticks": ""
             }
            },
            "type": "scatterpolar"
           }
          ],
          "scatterpolargl": [
           {
            "marker": {
             "colorbar": {
              "outlinewidth": 0,
              "ticks": ""
             }
            },
            "type": "scatterpolargl"
           }
          ],
          "scatterternary": [
           {
            "marker": {
             "colorbar": {
              "outlinewidth": 0,
              "ticks": ""
             }
            },
            "type": "scatterternary"
           }
          ],
          "surface": [
           {
            "colorbar": {
             "outlinewidth": 0,
             "ticks": ""
            },
            "colorscale": [
             [
              0,
              "#0d0887"
             ],
             [
              0.1111111111111111,
              "#46039f"
             ],
             [
              0.2222222222222222,
              "#7201a8"
             ],
             [
              0.3333333333333333,
              "#9c179e"
             ],
             [
              0.4444444444444444,
              "#bd3786"
             ],
             [
              0.5555555555555556,
              "#d8576b"
             ],
             [
              0.6666666666666666,
              "#ed7953"
             ],
             [
              0.7777777777777778,
              "#fb9f3a"
             ],
             [
              0.8888888888888888,
              "#fdca26"
             ],
             [
              1,
              "#f0f921"
             ]
            ],
            "type": "surface"
           }
          ],
          "table": [
           {
            "cells": {
             "fill": {
              "color": "#EBF0F8"
             },
             "line": {
              "color": "white"
             }
            },
            "header": {
             "fill": {
              "color": "#C8D4E3"
             },
             "line": {
              "color": "white"
             }
            },
            "type": "table"
           }
          ]
         },
         "layout": {
          "annotationdefaults": {
           "arrowcolor": "#2a3f5f",
           "arrowhead": 0,
           "arrowwidth": 1
          },
          "autotypenumbers": "strict",
          "coloraxis": {
           "colorbar": {
            "outlinewidth": 0,
            "ticks": ""
           }
          },
          "colorscale": {
           "diverging": [
            [
             0,
             "#8e0152"
            ],
            [
             0.1,
             "#c51b7d"
            ],
            [
             0.2,
             "#de77ae"
            ],
            [
             0.3,
             "#f1b6da"
            ],
            [
             0.4,
             "#fde0ef"
            ],
            [
             0.5,
             "#f7f7f7"
            ],
            [
             0.6,
             "#e6f5d0"
            ],
            [
             0.7,
             "#b8e186"
            ],
            [
             0.8,
             "#7fbc41"
            ],
            [
             0.9,
             "#4d9221"
            ],
            [
             1,
             "#276419"
            ]
           ],
           "sequential": [
            [
             0,
             "#0d0887"
            ],
            [
             0.1111111111111111,
             "#46039f"
            ],
            [
             0.2222222222222222,
             "#7201a8"
            ],
            [
             0.3333333333333333,
             "#9c179e"
            ],
            [
             0.4444444444444444,
             "#bd3786"
            ],
            [
             0.5555555555555556,
             "#d8576b"
            ],
            [
             0.6666666666666666,
             "#ed7953"
            ],
            [
             0.7777777777777778,
             "#fb9f3a"
            ],
            [
             0.8888888888888888,
             "#fdca26"
            ],
            [
             1,
             "#f0f921"
            ]
           ],
           "sequentialminus": [
            [
             0,
             "#0d0887"
            ],
            [
             0.1111111111111111,
             "#46039f"
            ],
            [
             0.2222222222222222,
             "#7201a8"
            ],
            [
             0.3333333333333333,
             "#9c179e"
            ],
            [
             0.4444444444444444,
             "#bd3786"
            ],
            [
             0.5555555555555556,
             "#d8576b"
            ],
            [
             0.6666666666666666,
             "#ed7953"
            ],
            [
             0.7777777777777778,
             "#fb9f3a"
            ],
            [
             0.8888888888888888,
             "#fdca26"
            ],
            [
             1,
             "#f0f921"
            ]
           ]
          },
          "colorway": [
           "#636efa",
           "#EF553B",
           "#00cc96",
           "#ab63fa",
           "#FFA15A",
           "#19d3f3",
           "#FF6692",
           "#B6E880",
           "#FF97FF",
           "#FECB52"
          ],
          "font": {
           "color": "#2a3f5f"
          },
          "geo": {
           "bgcolor": "white",
           "lakecolor": "white",
           "landcolor": "white",
           "showlakes": true,
           "showland": true,
           "subunitcolor": "#C8D4E3"
          },
          "hoverlabel": {
           "align": "left"
          },
          "hovermode": "closest",
          "mapbox": {
           "style": "light"
          },
          "paper_bgcolor": "white",
          "plot_bgcolor": "white",
          "polar": {
           "angularaxis": {
            "gridcolor": "#EBF0F8",
            "linecolor": "#EBF0F8",
            "ticks": ""
           },
           "bgcolor": "white",
           "radialaxis": {
            "gridcolor": "#EBF0F8",
            "linecolor": "#EBF0F8",
            "ticks": ""
           }
          },
          "scene": {
           "xaxis": {
            "backgroundcolor": "white",
            "gridcolor": "#DFE8F3",
            "gridwidth": 2,
            "linecolor": "#EBF0F8",
            "showbackground": true,
            "ticks": "",
            "zerolinecolor": "#EBF0F8"
           },
           "yaxis": {
            "backgroundcolor": "white",
            "gridcolor": "#DFE8F3",
            "gridwidth": 2,
            "linecolor": "#EBF0F8",
            "showbackground": true,
            "ticks": "",
            "zerolinecolor": "#EBF0F8"
           },
           "zaxis": {
            "backgroundcolor": "white",
            "gridcolor": "#DFE8F3",
            "gridwidth": 2,
            "linecolor": "#EBF0F8",
            "showbackground": true,
            "ticks": "",
            "zerolinecolor": "#EBF0F8"
           }
          },
          "shapedefaults": {
           "line": {
            "color": "#2a3f5f"
           }
          },
          "ternary": {
           "aaxis": {
            "gridcolor": "#DFE8F3",
            "linecolor": "#A2B1C6",
            "ticks": ""
           },
           "baxis": {
            "gridcolor": "#DFE8F3",
            "linecolor": "#A2B1C6",
            "ticks": ""
           },
           "bgcolor": "white",
           "caxis": {
            "gridcolor": "#DFE8F3",
            "linecolor": "#A2B1C6",
            "ticks": ""
           }
          },
          "title": {
           "x": 0.05
          },
          "xaxis": {
           "automargin": true,
           "gridcolor": "#EBF0F8",
           "linecolor": "#EBF0F8",
           "ticks": "",
           "title": {
            "standoff": 15
           },
           "zerolinecolor": "#EBF0F8",
           "zerolinewidth": 2
          },
          "yaxis": {
           "automargin": true,
           "gridcolor": "#EBF0F8",
           "linecolor": "#EBF0F8",
           "ticks": "",
           "title": {
            "standoff": 15
           },
           "zerolinecolor": "#EBF0F8",
           "zerolinewidth": 2
          }
         }
        },
        "width": 900,
        "xaxis": {
         "linecolor": "black",
         "linewidth": 2,
         "mirror": true,
         "showgrid": false,
         "showline": true,
         "tickfont": {
          "family": "Times New Roman",
          "size": 22
         },
         "title": {
          "font": {
           "family": "Times New Roman",
           "size": 26
          },
          "text": "Site Name"
         }
        },
        "yaxis": {
         "linecolor": "black",
         "linewidth": 2,
         "mirror": true,
         "showgrid": false,
         "showline": true,
         "tickcolor": "black",
         "tickfont": {
          "family": "Times New Roman",
          "size": 22
         },
         "tickmode": "array",
         "ticks": "inside",
         "ticktext": [
          "1",
          "3",
          "5",
          "7",
          "9"
         ],
         "tickvals": [
          1,
          3,
          5,
          7,
          9
         ],
         "tickwidth": 2,
         "title": {
          "font": {
           "family": "Times New Roman",
           "size": 26
          },
          "text": "MAPE [%]"
         }
        }
       }
      }
     },
     "metadata": {},
     "output_type": "display_data"
    }
   ],
   "source": [
    "import plotly.graph_objects as go\n",
    "\n",
    "# Sample data\n",
    "sites = [\"GIST\", \"Germany\", \"Miryang\", \"California\", \"Georgia\", \"UK\"]\n",
    "methods = [\"Fine-Tuning\", \"Linear Probing\", \"Zero-Shot\", \"Target-Only\"]\n",
    "data = [\n",
    "    [1.6008, 5.3760, 6.1270, 2.1434],  # GIST\n",
    "    [2.1378, 4.9441, 6.2408, 3.1430],  # Germany\n",
    "    [2.3044, 3.4867, 3.7475, 3.1991],  # Miryang\n",
    "    [5.1154, 5.1154, 5.2956, 5.2644],  # California\n",
    "    [6.1461, 6.1396, 6.1932, 6.6276],  # Georgia\n",
    "    [7.4664, 7.8598, 8.6286, 9.0415]   # UK\n",
    "]\n",
    "\n",
    "# Custom colors and patterns\n",
    "method_colors = [\n",
    "    # \"rgb(179, 26, 35)\",     # Adrenaline Rush for Fine-Tuning\n",
    "    # \"rgb(117, 81, 57)\",     # Toffee for Linear Probing\n",
    "    # \"rgb(92, 44, 53)\",      # Tawny Port for Zero-Shot\n",
    "    # \"rgb(16, 59, 88)\"       # Blue Opal for Target-Only\n",
    "\n",
    "    \"rgb(255, 0, 0)\",     # Adrenaline Rush for Fine-Tuning\n",
    "    \"rgb(117, 81, 57)\",     # Toffee for Linear Probing\n",
    "    \"rgb(92, 44, 53)\",      # Tawny Port for Zero-Shot\n",
    "    \"rgb(16, 59, 88)\"       # Blue Opal for Target-Only\n",
    "]\n",
    "method_patterns = [\"\", \"/\", \".\", \"\\\\\"]  # No pattern, diagonal stripe, reverse diagonal, dotted\n",
    "\n",
    "# Initialize figure\n",
    "fig = go.Figure()\n",
    "\n",
    "# Add bars with patterns\n",
    "for i, method in enumerate(methods):\n",
    "    fig.add_trace(go.Bar(\n",
    "        x=sites,\n",
    "        y=[row[i] for row in data],\n",
    "        name=method,\n",
    "        marker=dict(\n",
    "            color=method_colors[i],\n",
    "            pattern_shape=method_patterns[i],\n",
    "            pattern_size=6  # Smaller pattern size\n",
    "        )\n",
    "    ))\n",
    "\n",
    "# Update layout\n",
    "fig.update_layout(\n",
    "    xaxis=dict(\n",
    "        title=\"Site Name\",\n",
    "        titlefont=dict(family=\"Times New Roman\", size=26),\n",
    "        tickfont=dict(family=\"Times New Roman\", size=22),\n",
    "        showline=True,  # Add border line to x-axis\n",
    "        linewidth=2,\n",
    "        linecolor=\"black\",\n",
    "        mirror=True  # Add top border\n",
    "    ),\n",
    "    yaxis=dict(\n",
    "        title=\"MAPE [%]\",\n",
    "        titlefont=dict(family=\"Times New Roman\", size=26),\n",
    "        tickfont=dict(family=\"Times New Roman\", size=22),\n",
    "        showline=True,  # Add border line to y-axis\n",
    "        linewidth=2,\n",
    "        linecolor=\"black\",\n",
    "        ticks=\"inside\",  # Add ticks inside the graph\n",
    "        tickwidth=2,\n",
    "        tickcolor=\"black\",\n",
    "        tickmode=\"array\",  # Use custom tick values\n",
    "        tickvals=[1, 3, 5, 7, 9],  # Specify tick positions\n",
    "        ticktext=[\"1\", \"3\", \"5\", \"7\", \"9\"],  # Tick labels\n",
    "        mirror=True,  # Add right border\n",
    "    ),\n",
    "    legend=dict(\n",
    "        font=dict(family=\"Times New Roman\", size=22),  # Legend font\n",
    "        orientation=\"h\",\n",
    "        bordercolor=\"black\",  # Add border around legend\n",
    "        borderwidth=2,\n",
    "        x=0.5,  # Position legend inside the graph\n",
    "        y=1.005,\n",
    "        xanchor=\"center\",\n",
    "        yanchor=\"top\",\n",
    "        bgcolor=\"white\",    # Background color for legend box\n",
    "        itemsizing=\"constant\",\n",
    "        itemwidth=30,\n",
    "        traceorder=\"normal\",\n",
    "        tracegroupgap=0,  # 그룹 간 간격을 0으로 설정\n",
    "        yref=\"paper\",\n",
    "\n",
    "\n",
    "\n",
    "    ),\n",
    "    barmode=\"group\",\n",
    "    template=\"plotly_white\",\n",
    "    width=900,\n",
    "    height=500\n",
    ")\n",
    "\n",
    "# Add outer border to the entire graph\n",
    "fig.update_layout(\n",
    "    margin=dict(l=50, r=50, t=70, b=50),\n",
    "    paper_bgcolor=\"white\",\n",
    "    plot_bgcolor=\"white\",\n",
    "    xaxis_showgrid=False,\n",
    "    yaxis_showgrid=False,\n",
    "    font=dict(\n",
    "        family=\"Times New Roman\",\n",
    "        size=18,\n",
    "        color=\"black\"  # 전체 글씨를 검은색으로 설정\n",
    "    )\n",
    ")\n",
    "\n",
    "fig.show()\n"
   ]
  },
  {
   "cell_type": "code",
   "execution_count": null,
   "metadata": {},
   "outputs": [
    {
     "data": {
      "image/png": "[encoded data removed]",
      "text/plain": [
       "<Figure size 1000x600 with 1 Axes>"
      ]
     },
     "metadata": {},
     "output_type": "display_data"
    }
   ],
   "source": [
    "import matplotlib.pyplot as plt\n",
    "import numpy as np\n",
    "\n",
    "\n",
    "\n",
    "# Data\n",
    "months = ['3 months', '6 months', '9 months', '12 months']\n",
    "data_1_16 = [7.1363, 7.1455, 6.7053, 6.4413]\n",
    "data_1_8 = [6.6736, 6.8629, 6.468, 6.2141]\n",
    "data_entire = [6.1724, 6.1783, 5.8742, 5.7292]\n",
    "\n",
    "# Set width of each bar and positions of bars\n",
    "width = 0.2\n",
    "x = np.arange(len(months))\n",
    "\n",
    "# Create figure and axis\n",
    "plt.figure(figsize=(10, 6))\n",
    "plt.style.use('default')\n",
    "plt.rcParams['font.size'] = 22  \n",
    "plt.rcParams['font.family'] = 'Times New Roman'\n",
    "\n",
    "# 패턴 크기 조절\n",
    "plt.rcParams['hatch.linewidth'] = 1  # 패턴의 선 두께\n",
    "plt.rcParams['hatch.color'] = 'white'  # 패턴 색상\n",
    "# plt.rcParams['hatch.density'] = 4  # 점의 밀도 - 값이 클수록 더 조밀\n",
    "\n",
    "plt.bar(x - width, data_1_16, width, label='1/16', color='#2B2E43',     #D6C69A #BEBDBD #2B2E43\n",
    "        hatch='..', edgecolor='white')  # 점 패턴\n",
    "plt.bar(x, data_1_8, width, label='1/8', color='#4B6D41',       #595F34 #103B58 #4B6D41\n",
    "        hatch='///', edgecolor='white')  # 대각선 패턴\n",
    "plt.bar(x + width, data_entire, width, label='All', color=\"#77202E\", #282D3C #B31A23 #77202E\n",
    "        edgecolor='white')\n",
    "\n",
    "# Customize plot\n",
    "plt.ylabel('MAPE [%]')\n",
    "plt.xlabel('Train Set Size of Target Data', labelpad=15)\n",
    "# plt.title('GIST')\n",
    "plt.xticks(x, months)\n",
    "plt.tick_params(axis='y', direction='in', length=10, width=2, pad=7)\n",
    "plt.tick_params(axis='x', bottom=False)\n",
    "\n",
    "# Modify legend to use square markers\n",
    "legend=plt.legend(title='Source Data Size',\n",
    "          handlelength=0.8,  # 범례 마커 길이 조정\n",
    "          handleheight=0.8,  # 범례 마커 높이 조정\n",
    "          edgecolor='black',\n",
    "          fancybox=False)  # 범례 상자를 직각으로 설정\n",
    "legend.get_frame().set_linewidth(2)     # 범례 박스의 외곽선 두께 조절\n",
    "\n",
    "# Set y-axis limits\n",
    "plt.ylim(5, 8)\n",
    "plt.yticks(np.arange(5, 9, 1))\n",
    "\n",
    "# Add grid\n",
    "plt.grid(True, axis='y', linestyle='--', alpha=0.7, zorder=0)\n",
    "\n",
    "# Set spines linewidth (변의 굵기 조정)\n",
    "ax = plt.gca()  # Get current axis\n",
    "for spine in ax.spines.values():\n",
    "    spine.set_linewidth(1.8)  # 원하는 굵기 설정 (예: 2)\n",
    "\n",
    "# Adjust layout\n",
    "plt.tight_layout()\n",
    "\n",
    "# Save plots\n",
    "plt.show()"
   ]
  },
  {
   "cell_type": "code",
   "execution_count": 23,
   "metadata": {},
   "outputs": [
    {
     "data": {
      "application/vnd.plotly.v1+json": {
       "config": {
        "plotlyServerURL": "https://plot.ly"
       },
       "data": [
        {
         "colorbar": {
          "len": 0.8,
          "thickness": 25,
          "tickfont": {
           "family": "Times New Roman",
           "size": 14
          },
          "tickmode": "array",
          "ticktext": [
           "7.15",
           "6.44",
           "5.73"
          ],
          "tickvals": [
           7.1455,
           6.43735,
           5.7292
          ],
          "title": {
           "font": {
            "family": "Times New Roman",
            "size": 15
           },
           "side": "top",
           "text": "MAPE [%]"
          },
          "x": 0.25,
          "y": 0.89,
          "yanchor": "top"
         },
         "colorscale": [
          [
           0,
           "rgb(16, 59, 88)"
          ],
          [
           0.66,
           "rgb(106, 40, 44)"
          ],
          [
           1,
           "rgb(255, 0, 0)"
          ]
         ],
         "reversescale": true,
         "showscale": true,
         "text": [
          [
           "6.17",
           "6.18",
           "5.87",
           "5.73"
          ],
          [
           "6.67",
           "6.86",
           "6.47",
           "6.21"
          ],
          [
           "7.14",
           "7.15",
           "6.71",
           "6.44"
          ]
         ],
         "textfont": {
          "color": "white",
          "family": "Times New Roman",
          "size": 16
         },
         "texttemplate": "%{text}",
         "type": "heatmap",
         "x": [
          "3",
          "6",
          "9",
          "12"
         ],
         "xaxis": "x",
         "y": [
          "All ",
          "1/8 ",
          "1/16 "
         ],
         "yaxis": "y",
         "z": [
          [
           6.1724,
           6.1783,
           5.8742,
           5.7292
          ],
          [
           6.6736,
           6.8629,
           6.468,
           6.2141
          ],
          [
           7.1363,
           7.1455,
           6.7053,
           6.4413
          ]
         ],
         "zmax": 5.7292,
         "zmin": 7.1455
        },
        {
         "colorbar": {
          "len": 0.8,
          "thickness": 25,
          "tickfont": {
           "family": "Times New Roman",
           "size": 14
          },
          "tickmode": "array",
          "ticktext": [
           "8.49",
           "5.61",
           "2.72"
          ],
          "tickvals": [
           8.4899,
           5.6063,
           2.7227
          ],
          "title": {
           "font": {
            "family": "Times New Roman",
            "size": 15
           },
           "side": "top",
           "text": ""
          },
          "x": 0.623,
          "y": 0.89,
          "yanchor": "top"
         },
         "colorscale": [
          [
           0,
           "rgb(16, 59, 88)"
          ],
          [
           0.66,
           "rgb(106, 40, 44)"
          ],
          [
           1,
           "rgb(255, 0, 0)"
          ]
         ],
         "reversescale": true,
         "showscale": true,
         "text": [
          [
           "7.52",
           "3.85",
           "2.72",
           "2.73"
          ],
          [
           "8.09",
           "4.31",
           "3.07",
           "3.18"
          ],
          [
           "8.49",
           "4.64",
           "3.30",
           "3.42"
          ]
         ],
         "textfont": {
          "color": "white",
          "family": "Times New Roman",
          "size": 16
         },
         "texttemplate": "%{text}",
         "type": "heatmap",
         "x": [
          "3",
          "6",
          "9",
          "12"
         ],
         "xaxis": "x2",
         "y": [
          "All ",
          "1/8 ",
          "1/16 "
         ],
         "yaxis": "y2",
         "z": [
          [
           7.5188,
           3.8457,
           2.7227,
           2.7323
          ],
          [
           8.0878,
           4.307,
           3.0653,
           3.1765
          ],
          [
           8.4899,
           4.6427,
           3.3012,
           3.4228
          ]
         ],
         "zmax": 2.7227,
         "zmin": 8.4899
        },
        {
         "colorbar": {
          "len": 0.8,
          "thickness": 25,
          "tickfont": {
           "family": "Times New Roman",
           "size": 14
          },
          "tickmode": "array",
          "ticktext": [
           "4.35",
           "3.56",
           "2.76"
          ],
          "tickvals": [
           4.3548,
           3.556,
           2.7572
          ],
          "title": {
           "font": {
            "family": "Times New Roman",
            "size": 15
           },
           "side": "top",
           "text": ""
          },
          "x": 0.996,
          "y": 0.89,
          "yanchor": "top"
         },
         "colorscale": [
          [
           0,
           "rgb(16, 59, 88)"
          ],
          [
           0.66,
           "rgb(106, 40, 44)"
          ],
          [
           1,
           "rgb(255, 0, 0)"
          ]
         ],
         "reversescale": true,
         "showscale": true,
         "text": [
          [
           "3.68",
           "3.32",
           "2.97",
           "2.76"
          ],
          [
           "4.03",
           "3.65",
           "3.34",
           "3.07"
          ],
          [
           "4.35",
           "3.85",
           "3.54",
           "3.28"
          ]
         ],
         "textfont": {
          "color": "white",
          "family": "Times New Roman",
          "size": 16
         },
         "texttemplate": "%{text}",
         "type": "heatmap",
         "x": [
          "3",
          "6",
          "9",
          "12"
         ],
         "xaxis": "x3",
         "y": [
          "All ",
          "1/8 ",
          "1/16 "
         ],
         "yaxis": "y3",
         "z": [
          [
           3.6815,
           3.3182,
           2.9681,
           2.7572
          ],
          [
           4.0321,
           3.6522,
           3.3389,
           3.0737
          ],
          [
           4.3548,
           3.8478,
           3.5435,
           3.2797
          ]
         ],
         "zmax": 2.7572,
         "zmin": 4.3548
        }
       ],
       "layout": {
        "annotations": [
         {
          "font": {
           "family": "Times New Roman",
           "size": 20
          },
          "showarrow": false,
          "text": "GIST",
          "x": 0.12666666666666668,
          "xanchor": "center",
          "xref": "paper",
          "y": 1,
          "yanchor": "bottom",
          "yref": "paper"
         },
         {
          "font": {
           "family": "Times New Roman",
           "size": 20
          },
          "showarrow": false,
          "text": "Germany",
          "x": 0.5,
          "xanchor": "center",
          "xref": "paper",
          "y": 1,
          "yanchor": "bottom",
          "yref": "paper"
         },
         {
          "font": {
           "family": "Times New Roman",
           "size": 20
          },
          "showarrow": false,
          "text": "Miryang",
          "x": 0.8733333333333333,
          "xanchor": "center",
          "xref": "paper",
          "y": 1,
          "yanchor": "bottom",
          "yref": "paper"
         }
        ],
        "font": {
         "color": "black",
         "family": "Times New Roman",
         "size": 14
        },
        "height": 400,
        "margin": {
         "b": 40,
         "t": 80
        },
        "showlegend": false,
        "template": {
         "data": {
          "bar": [
           {
            "error_x": {
             "color": "#2a3f5f"
            },
            "error_y": {
             "color": "#2a3f5f"
            },
            "marker": {
             "line": {
              "color": "#E5ECF6",
              "width": 0.5
             },
             "pattern": {
              "fillmode": "overlay",
              "size": 10,
              "solidity": 0.2
             }
            },
            "type": "bar"
           }
          ],
          "barpolar": [
           {
            "marker": {
             "line": {
              "color": "#E5ECF6",
              "width": 0.5
             },
             "pattern": {
              "fillmode": "overlay",
              "size": 10,
              "solidity": 0.2
             }
            },
            "type": "barpolar"
           }
          ],
          "carpet": [
           {
            "aaxis": {
             "endlinecolor": "#2a3f5f",
             "gridcolor": "white",
             "linecolor": "white",
             "minorgridcolor": "white",
             "startlinecolor": "#2a3f5f"
            },
            "baxis": {
             "endlinecolor": "#2a3f5f",
             "gridcolor": "white",
             "linecolor": "white",
             "minorgridcolor": "white",
             "startlinecolor": "#2a3f5f"
            },
            "type": "carpet"
           }
          ],
          "choropleth": [
           {
            "colorbar": {
             "outlinewidth": 0,
             "ticks": ""
            },
            "type": "choropleth"
           }
          ],
          "contour": [
           {
            "colorbar": {
             "outlinewidth": 0,
             "ticks": ""
            },
            "colorscale": [
             [
              0,
              "#0d0887"
             ],
             [
              0.1111111111111111,
              "#46039f"
             ],
             [
              0.2222222222222222,
              "#7201a8"
             ],
             [
              0.3333333333333333,
              "#9c179e"
             ],
             [
              0.4444444444444444,
              "#bd3786"
             ],
             [
              0.5555555555555556,
              "#d8576b"
             ],
             [
              0.6666666666666666,
              "#ed7953"
             ],
             [
              0.7777777777777778,
              "#fb9f3a"
             ],
             [
              0.8888888888888888,
              "#fdca26"
             ],
             [
              1,
              "#f0f921"
             ]
            ],
            "type": "contour"
           }
          ],
          "contourcarpet": [
           {
            "colorbar": {
             "outlinewidth": 0,
             "ticks": ""
            },
            "type": "contourcarpet"
           }
          ],
          "heatmap": [
           {
            "colorbar": {
             "outlinewidth": 0,
             "ticks": ""
            },
            "colorscale": [
             [
              0,
              "#0d0887"
             ],
             [
              0.1111111111111111,
              "#46039f"
             ],
             [
              0.2222222222222222,
              "#7201a8"
             ],
             [
              0.3333333333333333,
              "#9c179e"
             ],
             [
              0.4444444444444444,
              "#bd3786"
             ],
             [
              0.5555555555555556,
              "#d8576b"
             ],
             [
              0.6666666666666666,
              "#ed7953"
             ],
             [
              0.7777777777777778,
              "#fb9f3a"
             ],
             [
              0.8888888888888888,
              "#fdca26"
             ],
             [
              1,
              "#f0f921"
             ]
            ],
            "type": "heatmap"
           }
          ],
          "heatmapgl": [
           {
            "colorbar": {
             "outlinewidth": 0,
             "ticks": ""
            },
            "colorscale": [
             [
              0,
              "#0d0887"
             ],
             [
              0.1111111111111111,
              "#46039f"
             ],
             [
              0.2222222222222222,
              "#7201a8"
             ],
             [
              0.3333333333333333,
              "#9c179e"
             ],
             [
              0.4444444444444444,
              "#bd3786"
             ],
             [
              0.5555555555555556,
              "#d8576b"
             ],
             [
              0.6666666666666666,
              "#ed7953"
             ],
             [
              0.7777777777777778,
              "#fb9f3a"
             ],
             [
              0.8888888888888888,
              "#fdca26"
             ],
             [
              1,
              "#f0f921"
             ]
            ],
            "type": "heatmapgl"
           }
          ],
          "histogram": [
           {
            "marker": {
             "pattern": {
              "fillmode": "overlay",
              "size": 10,
              "solidity": 0.2
             }
            },
            "type": "histogram"
           }
          ],
          "histogram2d": [
           {
            "colorbar": {
             "outlinewidth": 0,
             "ticks": ""
            },
            "colorscale": [
             [
              0,
              "#0d0887"
             ],
             [
              0.1111111111111111,
              "#46039f"
             ],
             [
              0.2222222222222222,
              "#7201a8"
             ],
             [
              0.3333333333333333,
              "#9c179e"
             ],
             [
              0.4444444444444444,
              "#bd3786"
             ],
             [
              0.5555555555555556,
              "#d8576b"
             ],
             [
              0.6666666666666666,
              "#ed7953"
             ],
             [
              0.7777777777777778,
              "#fb9f3a"
             ],
             [
              0.8888888888888888,
              "#fdca26"
             ],
             [
              1,
              "#f0f921"
             ]
            ],
            "type": "histogram2d"
           }
          ],
          "histogram2dcontour": [
           {
            "colorbar": {
             "outlinewidth": 0,
             "ticks": ""
            },
            "colorscale": [
             [
              0,
              "#0d0887"
             ],
             [
              0.1111111111111111,
              "#46039f"
             ],
             [
              0.2222222222222222,
              "#7201a8"
             ],
             [
              0.3333333333333333,
              "#9c179e"
             ],
             [
              0.4444444444444444,
              "#bd3786"
             ],
             [
              0.5555555555555556,
              "#d8576b"
             ],
             [
              0.6666666666666666,
              "#ed7953"
             ],
             [
              0.7777777777777778,
              "#fb9f3a"
             ],
             [
              0.8888888888888888,
              "#fdca26"
             ],
             [
              1,
              "#f0f921"
             ]
            ],
            "type": "histogram2dcontour"
           }
          ],
          "mesh3d": [
           {
            "colorbar": {
             "outlinewidth": 0,
             "ticks": ""
            },
            "type": "mesh3d"
           }
          ],
          "parcoords": [
           {
            "line": {
             "colorbar": {
              "outlinewidth": 0,
              "ticks": ""
             }
            },
            "type": "parcoords"
           }
          ],
          "pie": [
           {
            "automargin": true,
            "type": "pie"
           }
          ],
          "scatter": [
           {
            "fillpattern": {
             "fillmode": "overlay",
             "size": 10,
             "solidity": 0.2
            },
            "type": "scatter"
           }
          ],
          "scatter3d": [
           {
            "line": {
             "colorbar": {
              "outlinewidth": 0,
              "ticks": ""
             }
            },
            "marker": {
             "colorbar": {
              "outlinewidth": 0,
              "ticks": ""
             }
            },
            "type": "scatter3d"
           }
          ],
          "scattercarpet": [
           {
            "marker": {
             "colorbar": {
              "outlinewidth": 0,
              "ticks": ""
             }
            },
            "type": "scattercarpet"
           }
          ],
          "scattergeo": [
           {
            "marker": {
             "colorbar": {
              "outlinewidth": 0,
              "ticks": ""
             }
            },
            "type": "scattergeo"
           }
          ],
          "scattergl": [
           {
            "marker": {
             "colorbar": {
              "outlinewidth": 0,
              "ticks": ""
             }
            },
            "type": "scattergl"
           }
          ],
          "scattermapbox": [
           {
            "marker": {
             "colorbar": {
              "outlinewidth": 0,
              "ticks": ""
             }
            },
            "type": "scattermapbox"
           }
          ],
          "scatterpolar": [
           {
            "marker": {
             "colorbar": {
              "outlinewidth": 0,
              "ticks": ""
             }
            },
            "type": "scatterpolar"
           }
          ],
          "scatterpolargl": [
           {
            "marker": {
             "colorbar": {
              "outlinewidth": 0,
              "ticks": ""
             }
            },
            "type": "scatterpolargl"
           }
          ],
          "scatterternary": [
           {
            "marker": {
             "colorbar": {
              "outlinewidth": 0,
              "ticks": ""
             }
            },
            "type": "scatterternary"
           }
          ],
          "surface": [
           {
            "colorbar": {
             "outlinewidth": 0,
             "ticks": ""
            },
            "colorscale": [
             [
              0,
              "#0d0887"
             ],
             [
              0.1111111111111111,
              "#46039f"
             ],
             [
              0.2222222222222222,
              "#7201a8"
             ],
             [
              0.3333333333333333,
              "#9c179e"
             ],
             [
              0.4444444444444444,
              "#bd3786"
             ],
             [
              0.5555555555555556,
              "#d8576b"
             ],
             [
              0.6666666666666666,
              "#ed7953"
             ],
             [
              0.7777777777777778,
              "#fb9f3a"
             ],
             [
              0.8888888888888888,
              "#fdca26"
             ],
             [
              1,
              "#f0f921"
             ]
            ],
            "type": "surface"
           }
          ],
          "table": [
           {
            "cells": {
             "fill": {
              "color": "#EBF0F8"
             },
             "line": {
              "color": "white"
             }
            },
            "header": {
             "fill": {
              "color": "#C8D4E3"
             },
             "line": {
              "color": "white"
             }
            },
            "type": "table"
           }
          ]
         },
         "layout": {
          "annotationdefaults": {
           "arrowcolor": "#2a3f5f",
           "arrowhead": 0,
           "arrowwidth": 1
          },
          "autotypenumbers": "strict",
          "coloraxis": {
           "colorbar": {
            "outlinewidth": 0,
            "ticks": ""
           }
          },
          "colorscale": {
           "diverging": [
            [
             0,
             "#8e0152"
            ],
            [
             0.1,
             "#c51b7d"
            ],
            [
             0.2,
             "#de77ae"
            ],
            [
             0.3,
             "#f1b6da"
            ],
            [
             0.4,
             "#fde0ef"
            ],
            [
             0.5,
             "#f7f7f7"
            ],
            [
             0.6,
             "#e6f5d0"
            ],
            [
             0.7,
             "#b8e186"
            ],
            [
             0.8,
             "#7fbc41"
            ],
            [
             0.9,
             "#4d9221"
            ],
            [
             1,
             "#276419"
            ]
           ],
           "sequential": [
            [
             0,
             "#0d0887"
            ],
            [
             0.1111111111111111,
             "#46039f"
            ],
            [
             0.2222222222222222,
             "#7201a8"
            ],
            [
             0.3333333333333333,
             "#9c179e"
            ],
            [
             0.4444444444444444,
             "#bd3786"
            ],
            [
             0.5555555555555556,
             "#d8576b"
            ],
            [
             0.6666666666666666,
             "#ed7953"
            ],
            [
             0.7777777777777778,
             "#fb9f3a"
            ],
            [
             0.8888888888888888,
             "#fdca26"
            ],
            [
             1,
             "#f0f921"
            ]
           ],
           "sequentialminus": [
            [
             0,
             "#0d0887"
            ],
            [
             0.1111111111111111,
             "#46039f"
            ],
            [
             0.2222222222222222,
             "#7201a8"
            ],
            [
             0.3333333333333333,
             "#9c179e"
            ],
            [
             0.4444444444444444,
             "#bd3786"
            ],
            [
             0.5555555555555556,
             "#d8576b"
            ],
            [
             0.6666666666666666,
             "#ed7953"
            ],
            [
             0.7777777777777778,
             "#fb9f3a"
            ],
            [
             0.8888888888888888,
             "#fdca26"
            ],
            [
             1,
             "#f0f921"
            ]
           ]
          },
          "colorway": [
           "#636efa",
           "#EF553B",
           "#00cc96",
           "#ab63fa",
           "#FFA15A",
           "#19d3f3",
           "#FF6692",
           "#B6E880",
           "#FF97FF",
           "#FECB52"
          ],
          "font": {
           "color": "#2a3f5f"
          },
          "geo": {
           "bgcolor": "white",
           "lakecolor": "white",
           "landcolor": "#E5ECF6",
           "showlakes": true,
           "showland": true,
           "subunitcolor": "white"
          },
          "hoverlabel": {
           "align": "left"
          },
          "hovermode": "closest",
          "mapbox": {
           "style": "light"
          },
          "paper_bgcolor": "white",
          "plot_bgcolor": "#E5ECF6",
          "polar": {
           "angularaxis": {
            "gridcolor": "white",
            "linecolor": "white",
            "ticks": ""
           },
           "bgcolor": "#E5ECF6",
           "radialaxis": {
            "gridcolor": "white",
            "linecolor": "white",
            "ticks": ""
           }
          },
          "scene": {
           "xaxis": {
            "backgroundcolor": "#E5ECF6",
            "gridcolor": "white",
            "gridwidth": 2,
            "linecolor": "white",
            "showbackground": true,
            "ticks": "",
            "zerolinecolor": "white"
           },
           "yaxis": {
            "backgroundcolor": "#E5ECF6",
            "gridcolor": "white",
            "gridwidth": 2,
            "linecolor": "white",
            "showbackground": true,
            "ticks": "",
            "zerolinecolor": "white"
           },
           "zaxis": {
            "backgroundcolor": "#E5ECF6",
            "gridcolor": "white",
            "gridwidth": 2,
            "linecolor": "white",
            "showbackground": true,
            "ticks": "",
            "zerolinecolor": "white"
           }
          },
          "shapedefaults": {
           "line": {
            "color": "#2a3f5f"
           }
          },
          "ternary": {
           "aaxis": {
            "gridcolor": "white",
            "linecolor": "white",
            "ticks": ""
           },
           "baxis": {
            "gridcolor": "white",
            "linecolor": "white",
            "ticks": ""
           },
           "bgcolor": "#E5ECF6",
           "caxis": {
            "gridcolor": "white",
            "linecolor": "white",
            "ticks": ""
           }
          },
          "title": {
           "x": 0.05
          },
          "xaxis": {
           "automargin": true,
           "gridcolor": "white",
           "linecolor": "white",
           "ticks": "",
           "title": {
            "standoff": 15
           },
           "zerolinecolor": "white",
           "zerolinewidth": 2
          },
          "yaxis": {
           "automargin": true,
           "gridcolor": "white",
           "linecolor": "white",
           "ticks": "",
           "title": {
            "standoff": 15
           },
           "zerolinecolor": "white",
           "zerolinewidth": 2
          }
         }
        },
        "width": 1200,
        "xaxis": {
         "anchor": "y",
         "domain": [
          0,
          0.25333333333333335
         ],
         "tickfont": {
          "family": "Times New Roman",
          "size": 16
         }
        },
        "xaxis2": {
         "anchor": "y2",
         "domain": [
          0.37333333333333335,
          0.6266666666666667
         ],
         "tickfont": {
          "family": "Times New Roman",
          "size": 16
         },
         "title": {
          "font": {
           "family": "Times New Roman",
           "size": 18
          },
          "text": "Target Dataset Length [Months]"
         }
        },
        "xaxis3": {
         "anchor": "y3",
         "domain": [
          0.7466666666666667,
          1
         ],
         "tickfont": {
          "family": "Times New Roman",
          "size": 16
         }
        },
        "yaxis": {
         "anchor": "x",
         "domain": [
          0,
          1
         ],
         "tickfont": {
          "family": "Times New Roman",
          "size": 16
         },
         "title": {
          "font": {
           "family": "Times New Roman",
           "size": 18
          },
          "text": "Source Dataset Volume"
         }
        },
        "yaxis2": {
         "anchor": "x2",
         "domain": [
          0,
          1
         ],
         "tickfont": {
          "family": "Times New Roman",
          "size": 16
         }
        },
        "yaxis3": {
         "anchor": "x3",
         "domain": [
          0,
          1
         ],
         "tickfont": {
          "family": "Times New Roman",
          "size": 16
         }
        }
       }
      }
     },
     "metadata": {},
     "output_type": "display_data"
    },
    {
     "data": {
      "application/vnd.plotly.v1+json": {
       "config": {
        "plotlyServerURL": "https://plot.ly"
       },
       "data": [
        {
         "colorbar": {
          "len": 0.8,
          "thickness": 25,
          "tickfont": {
           "family": "Times New Roman",
           "size": 14
          },
          "tickmode": "array",
          "ticktext": [
           "6.36",
           "5.63",
           "4.89"
          ],
          "tickvals": [
           6.3624,
           5.628550000000001,
           4.8947
          ],
          "title": {
           "font": {
            "family": "Times New Roman",
            "size": 15
           },
           "side": "top",
           "text": "MAPE [%]"
          },
          "x": 0.25,
          "y": 0.89,
          "yanchor": "top"
         },
         "colorscale": [
          [
           0,
           "rgb(16, 59, 88)"
          ],
          [
           0.66,
           "rgb(106, 40, 44)"
          ],
          [
           1,
           "rgb(255, 0, 0)"
          ]
         ],
         "reversescale": true,
         "showscale": true,
         "text": [
          [
           "5.41",
           "5.28",
           "4.89",
           "4.95"
          ],
          [
           "5.85",
           "5.48",
           "4.98",
           "5.08"
          ],
          [
           "6.36",
           "5.59",
           "5.27",
           "5.24"
          ]
         ],
         "textfont": {
          "color": "white",
          "family": "Times New Roman",
          "size": 16
         },
         "texttemplate": "%{text}",
         "type": "heatmap",
         "x": [
          "3",
          "6",
          "9",
          "12"
         ],
         "xaxis": "x",
         "y": [
          "All ",
          "1/8 ",
          "1/16 "
         ],
         "yaxis": "y",
         "z": [
          [
           5.411,
           5.2759,
           4.8947,
           4.9451
          ],
          [
           5.8545,
           5.4798,
           4.9797,
           5.0834
          ],
          [
           6.3624,
           5.5923,
           5.2748,
           5.2427
          ]
         ],
         "zmax": 4.8947,
         "zmin": 6.3624
        },
        {
         "colorbar": {
          "len": 0.8,
          "thickness": 25,
          "tickfont": {
           "family": "Times New Roman",
           "size": 14
          },
          "tickmode": "array",
          "ticktext": [
           "7.52",
           "6.69",
           "5.85"
          ],
          "tickvals": [
           7.5237,
           6.687799999999999,
           5.8519
          ],
          "title": {
           "font": {
            "family": "Times New Roman",
            "size": 15
           },
           "side": "top",
           "text": ""
          },
          "x": 0.623,
          "y": 0.89,
          "yanchor": "top"
         },
         "colorscale": [
          [
           0,
           "rgb(16, 59, 88)"
          ],
          [
           0.66,
           "rgb(106, 40, 44)"
          ],
          [
           1,
           "rgb(255, 0, 0)"
          ]
         ],
         "reversescale": true,
         "showscale": true,
         "text": [
          [
           "6.44",
           "6.12",
           "5.85",
           "5.88"
          ],
          [
           "6.60",
           "6.13",
           "6.01",
           "6.19"
          ],
          [
           "7.52",
           "7.39",
           "6.31",
           "6.50"
          ]
         ],
         "textfont": {
          "color": "white",
          "family": "Times New Roman",
          "size": 16
         },
         "texttemplate": "%{text}",
         "type": "heatmap",
         "x": [
          "3",
          "6",
          "9",
          "12"
         ],
         "xaxis": "x2",
         "y": [
          "All ",
          "1/8 ",
          "1/16 "
         ],
         "yaxis": "y2",
         "z": [
          [
           6.4423,
           6.1232,
           5.8519,
           5.8817
          ],
          [
           6.6001,
           6.1299,
           6.0094,
           6.1892
          ],
          [
           7.5237,
           7.3936,
           6.3121,
           6.4992
          ]
         ],
         "zmax": 5.8519,
         "zmin": 7.5237
        },
        {
         "colorbar": {
          "len": 0.8,
          "thickness": 25,
          "tickfont": {
           "family": "Times New Roman",
           "size": 14
          },
          "tickmode": "array",
          "ticktext": [
           "10.48",
           "8.97",
           "7.47"
          ],
          "tickvals": [
           10.478,
           8.9728,
           7.4676
          ],
          "title": {
           "font": {
            "family": "Times New Roman",
            "size": 15
           },
           "side": "top",
           "text": ""
          },
          "x": 0.996,
          "y": 0.89,
          "yanchor": "top"
         },
         "colorscale": [
          [
           0,
           "rgb(16, 59, 88)"
          ],
          [
           0.66,
           "rgb(106, 40, 44)"
          ],
          [
           1,
           "rgb(255, 0, 0)"
          ]
         ],
         "reversescale": true,
         "showscale": true,
         "text": [
          [
           "7.47",
           "8.51",
           "7.66"
          ],
          [
           "8.25",
           "10.48",
           "8.24"
          ],
          [
           "8.25",
           "9.70",
           "8.86"
          ]
         ],
         "textfont": {
          "color": "white",
          "family": "Times New Roman",
          "size": 16
         },
         "texttemplate": "%{text}",
         "type": "heatmap",
         "x": [
          "3",
          "6",
          "9"
         ],
         "xaxis": "x3",
         "y": [
          "All ",
          "1/8 ",
          "1/16 "
         ],
         "yaxis": "y3",
         "z": [
          [
           7.4676,
           8.5057,
           7.6623
          ],
          [
           8.2529,
           10.478,
           8.2393
          ],
          [
           8.2501,
           9.7039,
           8.8634
          ]
         ],
         "zmax": 7.4676,
         "zmin": 10.478
        }
       ],
       "layout": {
        "annotations": [
         {
          "font": {
           "family": "Times New Roman",
           "size": 20
          },
          "showarrow": false,
          "text": "California",
          "x": 0.12666666666666668,
          "xanchor": "center",
          "xref": "paper",
          "y": 1,
          "yanchor": "bottom",
          "yref": "paper"
         },
         {
          "font": {
           "family": "Times New Roman",
           "size": 20
          },
          "showarrow": false,
          "text": "Georgia",
          "x": 0.5,
          "xanchor": "center",
          "xref": "paper",
          "y": 1,
          "yanchor": "bottom",
          "yref": "paper"
         },
         {
          "font": {
           "family": "Times New Roman",
           "size": 20
          },
          "showarrow": false,
          "text": "UK",
          "x": 0.8733333333333333,
          "xanchor": "center",
          "xref": "paper",
          "y": 1,
          "yanchor": "bottom",
          "yref": "paper"
         }
        ],
        "font": {
         "color": "black",
         "family": "Times New Roman",
         "size": 14
        },
        "height": 400,
        "margin": {
         "b": 40,
         "t": 80
        },
        "showlegend": false,
        "template": {
         "data": {
          "bar": [
           {
            "error_x": {
             "color": "#2a3f5f"
            },
            "error_y": {
             "color": "#2a3f5f"
            },
            "marker": {
             "line": {
              "color": "#E5ECF6",
              "width": 0.5
             },
             "pattern": {
              "fillmode": "overlay",
              "size": 10,
              "solidity": 0.2
             }
            },
            "type": "bar"
           }
          ],
          "barpolar": [
           {
            "marker": {
             "line": {
              "color": "#E5ECF6",
              "width": 0.5
             },
             "pattern": {
              "fillmode": "overlay",
              "size": 10,
              "solidity": 0.2
             }
            },
            "type": "barpolar"
           }
          ],
          "carpet": [
           {
            "aaxis": {
             "endlinecolor": "#2a3f5f",
             "gridcolor": "white",
             "linecolor": "white",
             "minorgridcolor": "white",
             "startlinecolor": "#2a3f5f"
            },
            "baxis": {
             "endlinecolor": "#2a3f5f",
             "gridcolor": "white",
             "linecolor": "white",
             "minorgridcolor": "white",
             "startlinecolor": "#2a3f5f"
            },
            "type": "carpet"
           }
          ],
          "choropleth": [
           {
            "colorbar": {
             "outlinewidth": 0,
             "ticks": ""
            },
            "type": "choropleth"
           }
          ],
          "contour": [
           {
            "colorbar": {
             "outlinewidth": 0,
             "ticks": ""
            },
            "colorscale": [
             [
              0,
              "#0d0887"
             ],
             [
              0.1111111111111111,
              "#46039f"
             ],
             [
              0.2222222222222222,
              "#7201a8"
             ],
             [
              0.3333333333333333,
              "#9c179e"
             ],
             [
              0.4444444444444444,
              "#bd3786"
             ],
             [
              0.5555555555555556,
              "#d8576b"
             ],
             [
              0.6666666666666666,
              "#ed7953"
             ],
             [
              0.7777777777777778,
              "#fb9f3a"
             ],
             [
              0.8888888888888888,
              "#fdca26"
             ],
             [
              1,
              "#f0f921"
             ]
            ],
            "type": "contour"
           }
          ],
          "contourcarpet": [
           {
            "colorbar": {
             "outlinewidth": 0,
             "ticks": ""
            },
            "type": "contourcarpet"
           }
          ],
          "heatmap": [
           {
            "colorbar": {
             "outlinewidth": 0,
             "ticks": ""
            },
            "colorscale": [
             [
              0,
              "#0d0887"
             ],
             [
              0.1111111111111111,
              "#46039f"
             ],
             [
              0.2222222222222222,
              "#7201a8"
             ],
             [
              0.3333333333333333,
              "#9c179e"
             ],
             [
              0.4444444444444444,
              "#bd3786"
             ],
             [
              0.5555555555555556,
              "#d8576b"
             ],
             [
              0.6666666666666666,
              "#ed7953"
             ],
             [
              0.7777777777777778,
              "#fb9f3a"
             ],
             [
              0.8888888888888888,
              "#fdca26"
             ],
             [
              1,
              "#f0f921"
             ]
            ],
            "type": "heatmap"
           }
          ],
          "heatmapgl": [
           {
            "colorbar": {
             "outlinewidth": 0,
             "ticks": ""
            },
            "colorscale": [
             [
              0,
              "#0d0887"
             ],
             [
              0.1111111111111111,
              "#46039f"
             ],
             [
              0.2222222222222222,
              "#7201a8"
             ],
             [
              0.3333333333333333,
              "#9c179e"
             ],
             [
              0.4444444444444444,
              "#bd3786"
             ],
             [
              0.5555555555555556,
              "#d8576b"
             ],
             [
              0.6666666666666666,
              "#ed7953"
             ],
             [
              0.7777777777777778,
              "#fb9f3a"
             ],
             [
              0.8888888888888888,
              "#fdca26"
             ],
             [
              1,
              "#f0f921"
             ]
            ],
            "type": "heatmapgl"
           }
          ],
          "histogram": [
           {
            "marker": {
             "pattern": {
              "fillmode": "overlay",
              "size": 10,
              "solidity": 0.2
             }
            },
            "type": "histogram"
           }
          ],
          "histogram2d": [
           {
            "colorbar": {
             "outlinewidth": 0,
             "ticks": ""
            },
            "colorscale": [
             [
              0,
              "#0d0887"
             ],
             [
              0.1111111111111111,
              "#46039f"
             ],
             [
              0.2222222222222222,
              "#7201a8"
             ],
             [
              0.3333333333333333,
              "#9c179e"
             ],
             [
              0.4444444444444444,
              "#bd3786"
             ],
             [
              0.5555555555555556,
              "#d8576b"
             ],
             [
              0.6666666666666666,
              "#ed7953"
             ],
             [
              0.7777777777777778,
              "#fb9f3a"
             ],
             [
              0.8888888888888888,
              "#fdca26"
             ],
             [
              1,
              "#f0f921"
             ]
            ],
            "type": "histogram2d"
           }
          ],
          "histogram2dcontour": [
           {
            "colorbar": {
             "outlinewidth": 0,
             "ticks": ""
            },
            "colorscale": [
             [
              0,
              "#0d0887"
             ],
             [
              0.1111111111111111,
              "#46039f"
             ],
             [
              0.2222222222222222,
              "#7201a8"
             ],
             [
              0.3333333333333333,
              "#9c179e"
             ],
             [
              0.4444444444444444,
              "#bd3786"
             ],
             [
              0.5555555555555556,
              "#d8576b"
             ],
             [
              0.6666666666666666,
              "#ed7953"
             ],
             [
              0.7777777777777778,
              "#fb9f3a"
             ],
             [
              0.8888888888888888,
              "#fdca26"
             ],
             [
              1,
              "#f0f921"
             ]
            ],
            "type": "histogram2dcontour"
           }
          ],
          "mesh3d": [
           {
            "colorbar": {
             "outlinewidth": 0,
             "ticks": ""
            },
            "type": "mesh3d"
           }
          ],
          "parcoords": [
           {
            "line": {
             "colorbar": {
              "outlinewidth": 0,
              "ticks": ""
             }
            },
            "type": "parcoords"
           }
          ],
          "pie": [
           {
            "automargin": true,
            "type": "pie"
           }
          ],
          "scatter": [
           {
            "fillpattern": {
             "fillmode": "overlay",
             "size": 10,
             "solidity": 0.2
            },
            "type": "scatter"
           }
          ],
          "scatter3d": [
           {
            "line": {
             "colorbar": {
              "outlinewidth": 0,
              "ticks": ""
             }
            },
            "marker": {
             "colorbar": {
              "outlinewidth": 0,
              "ticks": ""
             }
            },
            "type": "scatter3d"
           }
          ],
          "scattercarpet": [
           {
            "marker": {
             "colorbar": {
              "outlinewidth": 0,
              "ticks": ""
             }
            },
            "type": "scattercarpet"
           }
          ],
          "scattergeo": [
           {
            "marker": {
             "colorbar": {
              "outlinewidth": 0,
              "ticks": ""
             }
            },
            "type": "scattergeo"
           }
          ],
          "scattergl": [
           {
            "marker": {
             "colorbar": {
              "outlinewidth": 0,
              "ticks": ""
             }
            },
            "type": "scattergl"
           }
          ],
          "scattermapbox": [
           {
            "marker": {
             "colorbar": {
              "outlinewidth": 0,
              "ticks": ""
             }
            },
            "type": "scattermapbox"
           }
          ],
          "scatterpolar": [
           {
            "marker": {
             "colorbar": {
              "outlinewidth": 0,
              "ticks": ""
             }
            },
            "type": "scatterpolar"
           }
          ],
          "scatterpolargl": [
           {
            "marker": {
             "colorbar": {
              "outlinewidth": 0,
              "ticks": ""
             }
            },
            "type": "scatterpolargl"
           }
          ],
          "scatterternary": [
           {
            "marker": {
             "colorbar": {
              "outlinewidth": 0,
              "ticks": ""
             }
            },
            "type": "scatterternary"
           }
          ],
          "surface": [
           {
            "colorbar": {
             "outlinewidth": 0,
             "ticks": ""
            },
            "colorscale": [
             [
              0,
              "#0d0887"
             ],
             [
              0.1111111111111111,
              "#46039f"
             ],
             [
              0.2222222222222222,
              "#7201a8"
             ],
             [
              0.3333333333333333,
              "#9c179e"
             ],
             [
              0.4444444444444444,
              "#bd3786"
             ],
             [
              0.5555555555555556,
              "#d8576b"
             ],
             [
              0.6666666666666666,
              "#ed7953"
             ],
             [
              0.7777777777777778,
              "#fb9f3a"
             ],
             [
              0.8888888888888888,
              "#fdca26"
             ],
             [
              1,
              "#f0f921"
             ]
            ],
            "type": "surface"
           }
          ],
          "table": [
           {
            "cells": {
             "fill": {
              "color": "#EBF0F8"
             },
             "line": {
              "color": "white"
             }
            },
            "header": {
             "fill": {
              "color": "#C8D4E3"
             },
             "line": {
              "color": "white"
             }
            },
            "type": "table"
           }
          ]
         },
         "layout": {
          "annotationdefaults": {
           "arrowcolor": "#2a3f5f",
           "arrowhead": 0,
           "arrowwidth": 1
          },
          "autotypenumbers": "strict",
          "coloraxis": {
           "colorbar": {
            "outlinewidth": 0,
            "ticks": ""
           }
          },
          "colorscale": {
           "diverging": [
            [
             0,
             "#8e0152"
            ],
            [
             0.1,
             "#c51b7d"
            ],
            [
             0.2,
             "#de77ae"
            ],
            [
             0.3,
             "#f1b6da"
            ],
            [
             0.4,
             "#fde0ef"
            ],
            [
             0.5,
             "#f7f7f7"
            ],
            [
             0.6,
             "#e6f5d0"
            ],
            [
             0.7,
             "#b8e186"
            ],
            [
             0.8,
             "#7fbc41"
            ],
            [
             0.9,
             "#4d9221"
            ],
            [
             1,
             "#276419"
            ]
           ],
           "sequential": [
            [
             0,
             "#0d0887"
            ],
            [
             0.1111111111111111,
             "#46039f"
            ],
            [
             0.2222222222222222,
             "#7201a8"
            ],
            [
             0.3333333333333333,
             "#9c179e"
            ],
            [
             0.4444444444444444,
             "#bd3786"
            ],
            [
             0.5555555555555556,
             "#d8576b"
            ],
            [
             0.6666666666666666,
             "#ed7953"
            ],
            [
             0.7777777777777778,
             "#fb9f3a"
            ],
            [
             0.8888888888888888,
             "#fdca26"
            ],
            [
             1,
             "#f0f921"
            ]
           ],
           "sequentialminus": [
            [
             0,
             "#0d0887"
            ],
            [
             0.1111111111111111,
             "#46039f"
            ],
            [
             0.2222222222222222,
             "#7201a8"
            ],
            [
             0.3333333333333333,
             "#9c179e"
            ],
            [
             0.4444444444444444,
             "#bd3786"
            ],
            [
             0.5555555555555556,
             "#d8576b"
            ],
            [
             0.6666666666666666,
             "#ed7953"
            ],
            [
             0.7777777777777778,
             "#fb9f3a"
            ],
            [
             0.8888888888888888,
             "#fdca26"
            ],
            [
             1,
             "#f0f921"
            ]
           ]
          },
          "colorway": [
           "#636efa",
           "#EF553B",
           "#00cc96",
           "#ab63fa",
           "#FFA15A",
           "#19d3f3",
           "#FF6692",
           "#B6E880",
           "#FF97FF",
           "#FECB52"
          ],
          "font": {
           "color": "#2a3f5f"
          },
          "geo": {
           "bgcolor": "white",
           "lakecolor": "white",
           "landcolor": "#E5ECF6",
           "showlakes": true,
           "showland": true,
           "subunitcolor": "white"
          },
          "hoverlabel": {
           "align": "left"
          },
          "hovermode": "closest",
          "mapbox": {
           "style": "light"
          },
          "paper_bgcolor": "white",
          "plot_bgcolor": "#E5ECF6",
          "polar": {
           "angularaxis": {
            "gridcolor": "white",
            "linecolor": "white",
            "ticks": ""
           },
           "bgcolor": "#E5ECF6",
           "radialaxis": {
            "gridcolor": "white",
            "linecolor": "white",
            "ticks": ""
           }
          },
          "scene": {
           "xaxis": {
            "backgroundcolor": "#E5ECF6",
            "gridcolor": "white",
            "gridwidth": 2,
            "linecolor": "white",
            "showbackground": true,
            "ticks": "",
            "zerolinecolor": "white"
           },
           "yaxis": {
            "backgroundcolor": "#E5ECF6",
            "gridcolor": "white",
            "gridwidth": 2,
            "linecolor": "white",
            "showbackground": true,
            "ticks": "",
            "zerolinecolor": "white"
           },
           "zaxis": {
            "backgroundcolor": "#E5ECF6",
            "gridcolor": "white",
            "gridwidth": 2,
            "linecolor": "white",
            "showbackground": true,
            "ticks": "",
            "zerolinecolor": "white"
           }
          },
          "shapedefaults": {
           "line": {
            "color": "#2a3f5f"
           }
          },
          "ternary": {
           "aaxis": {
            "gridcolor": "white",
            "linecolor": "white",
            "ticks": ""
           },
           "baxis": {
            "gridcolor": "white",
            "linecolor": "white",
            "ticks": ""
           },
           "bgcolor": "#E5ECF6",
           "caxis": {
            "gridcolor": "white",
            "linecolor": "white",
            "ticks": ""
           }
          },
          "title": {
           "x": 0.05
          },
          "xaxis": {
           "automargin": true,
           "gridcolor": "white",
           "linecolor": "white",
           "ticks": "",
           "title": {
            "standoff": 15
           },
           "zerolinecolor": "white",
           "zerolinewidth": 2
          },
          "yaxis": {
           "automargin": true,
           "gridcolor": "white",
           "linecolor": "white",
           "ticks": "",
           "title": {
            "standoff": 15
           },
           "zerolinecolor": "white",
           "zerolinewidth": 2
          }
         }
        },
        "width": 1200,
        "xaxis": {
         "anchor": "y",
         "domain": [
          0,
          0.25333333333333335
         ],
         "tickfont": {
          "family": "Times New Roman",
          "size": 16
         }
        },
        "xaxis2": {
         "anchor": "y2",
         "domain": [
          0.37333333333333335,
          0.6266666666666667
         ],
         "tickfont": {
          "family": "Times New Roman",
          "size": 16
         },
         "title": {
          "font": {
           "family": "Times New Roman",
           "size": 18
          },
          "text": "Target Dataset Length [Months]"
         }
        },
        "xaxis3": {
         "anchor": "y3",
         "domain": [
          0.7466666666666667,
          1
         ],
         "tickfont": {
          "family": "Times New Roman",
          "size": 16
         }
        },
        "yaxis": {
         "anchor": "x",
         "domain": [
          0,
          1
         ],
         "tickfont": {
          "family": "Times New Roman",
          "size": 16
         },
         "title": {
          "font": {
           "family": "Times New Roman",
           "size": 18
          },
          "text": "Source Dataset Volume"
         }
        },
        "yaxis2": {
         "anchor": "x2",
         "domain": [
          0,
          1
         ],
         "tickfont": {
          "family": "Times New Roman",
          "size": 16
         }
        },
        "yaxis3": {
         "anchor": "x3",
         "domain": [
          0,
          1
         ],
         "tickfont": {
          "family": "Times New Roman",
          "size": 16
         }
        }
       }
      }
     },
     "metadata": {},
     "output_type": "display_data"
    }
   ],
   "source": [
    "import plotly.graph_objects as go\n",
    "from plotly.subplots import make_subplots\n",
    "import numpy as np\n",
    "\n",
    "# Data setup\n",
    "sites_row1 = [\"GIST\", \"Germany\", \"Miryang\"]\n",
    "sites_row2 = [\"California\", \"Georgia\", \"UK\"]\n",
    "x_labels = [\"3\", \"6\", \"9\", \"12\"]\n",
    "x_labels_UK = [\"3\", \"6\", \"9\"]\n",
    "y_labels = [\"All \", \"1/8 \", \"1/16 \"]\n",
    "\n",
    "data = {\n",
    "    \"GIST\":     [[6.1724, 6.1783, 5.8742, 5.7292],\n",
    "                 [6.6736, 6.8629, 6.4680, 6.2141],\n",
    "                 [7.1363, 7.1455, 6.7053, 6.4413]],\n",
    "\n",
    "    \"Germany\": [[7.5188, 3.8457, 2.7227, 2.7323],\n",
    "                [8.0878, 4.3070, 3.0653, 3.1765],\n",
    "                [8.4899, 4.6427, 3.3012, 3.4228]],\n",
    "\n",
    "\n",
    "                 \n",
    "                #  8.48991\t4.64268\t3.30118\t3.42278\n",
    "                # 8.08776\t4.30696\t3.06529\t3.17646\n",
    "                # 7.5188\t3.84569\t2.72266\t2.73229\n",
    "\n",
    "\n",
    "    \"Miryang\":  [[3.6815, 3.3182, 2.9681, 2.7572],\n",
    "                 [4.0321, 3.6522, 3.3389, 3.0737],\n",
    "                 [4.3548, 3.8478, 3.5435, 3.2797]],\n",
    "\n",
    "    \"California\": [[5.411, 5.2759, 4.8947, 4.9451],\n",
    "                   [5.8545, 5.4798, 4.9797, 5.0834],\n",
    "                   [6.3624, 5.5923, 5.2748, 5.2427]],\n",
    "\n",
    "    \"Georgia\":  [[6.4423, 6.1232, 5.8519, 5.8817],\n",
    "                 [6.6001, 6.1299, 6.0094, 6.1892],\n",
    "                 [7.5237, 7.3936, 6.3121, 6.4992]],\n",
    "\n",
    "    \"UK\":       [[7.4676, 8.5057, 7.6623],\n",
    "                 [8.2529, 10.478, 8.2393],\n",
    "                 [8.2501, 9.7039, 8.8634]]\n",
    "}\n",
    "\n",
    "# Custom color scale\n",
    "custom_colorscale = [\n",
    "    (0.0, \"rgb(16, 59, 88)\"),       # Blue Opal\n",
    "    (0.66, \"rgb(106, 40, 44)\"),     # Syrah\n",
    "    # (1.0, \"rgb(179, 26, 35)\")       # Adrenaline Rush\n",
    "    (1.0, \"rgb(255, 0, 0)\")       # Red\n",
    "]\n",
    "\n",
    "def create_heatmap(sites, row_number):\n",
    "    # Create figure with 1x3 subplots\n",
    "    fig = make_subplots(\n",
    "        rows=1, cols=3,\n",
    "        subplot_titles=sites,\n",
    "        horizontal_spacing=0.12\n",
    "    )\n",
    "\n",
    "    # Calculate colorbar positions\n",
    "    colorbar_x = [0.25, 0.623, 0.996]\n",
    "\n",
    "    # Add heatmaps\n",
    "    for idx, site in enumerate(sites):\n",
    "        col = idx + 1\n",
    "        \n",
    "        site_data = np.array(data[site])\n",
    "        site_min = np.nanmin(site_data[site_data != None])\n",
    "        site_max = np.nanmax(site_data[site_data != None])\n",
    "\n",
    "        if site == 'GIST' or site == 'California':\n",
    "            colorbar_title = 'MAPE [%]'\n",
    "        else:\n",
    "            colorbar_title = None\n",
    "\n",
    "        # colorbar_title = 'MAPE [%]' if site == 'GIST' else None\n",
    "        x_labels_current = x_labels_UK if site == 'UK' else x_labels\n",
    "        \n",
    "        fig.add_trace(\n",
    "            go.Heatmap(\n",
    "                z=data[site],\n",
    "                x=x_labels_current,\n",
    "                y=y_labels,\n",
    "                colorscale=custom_colorscale,\n",
    "                reversescale=True,\n",
    "                text=[[f'{val:.2f}' if val is not None else '' for val in row] for row in data[site]],\n",
    "                texttemplate='%{text}',\n",
    "                textfont={\"size\": 16, \"color\": \"white\", \"family\": \"Times New Roman\"},\n",
    "                showscale=True,\n",
    "                colorbar=dict(\n",
    "                    title=dict(\n",
    "                        text=colorbar_title if colorbar_title else '',\n",
    "                        font=dict(\n",
    "                            family=\"Times New Roman\",\n",
    "                            size=15,\n",
    "                        ),\n",
    "                        side='top'\n",
    "                    ),\n",
    "                    x=colorbar_x[col-1],\n",
    "                    y=0.89,\n",
    "                    len=0.8,\n",
    "                    thickness=25,\n",
    "                    yanchor='top',\n",
    "                    tickmode='array',\n",
    "                    tickvals=[site_max, (site_min + site_max)/2, site_min],\n",
    "                    ticktext=[f'{site_max:.2f}', f'{(site_min + site_max)/2:.2f}', f'{site_min:.2f}'],\n",
    "                    tickfont=dict(family=\"Times New Roman\", size=14),\n",
    "                ),\n",
    "                zmin=site_max,\n",
    "                zmax=site_min\n",
    "            ),\n",
    "            row=1, col=col\n",
    "        )\n",
    "\n",
    "    # Update layout\n",
    "    fig.update_layout(\n",
    "        height=400,\n",
    "        width=1200,\n",
    "        showlegend=False,\n",
    "        margin=dict(t=80, b=40),\n",
    "        font=dict(\n",
    "            family=\"Times New Roman\",\n",
    "            size=14,\n",
    "            color=\"black\"\n",
    "        )\n",
    "    )\n",
    "\n",
    "    # Update subplot titles\n",
    "    for annotation in fig.layout.annotations:\n",
    "        annotation.font.update(\n",
    "            family='Times New Roman',\n",
    "            size=20\n",
    "        )\n",
    "\n",
    "    # Update axis labels\n",
    "    for col in range(1, 4):\n",
    "        fig.update_xaxes(\n",
    "            tickfont=dict(size=16, family=\"Times New Roman\"),\n",
    "            row=1, col=col\n",
    "        )\n",
    "        fig.update_yaxes(\n",
    "            tickfont=dict(size=16, family=\"Times New Roman\"),\n",
    "            row=1, col=col\n",
    "        )\n",
    "\n",
    "    # Add axis labels to the leftmost plot\n",
    "    fig.update_xaxes(\n",
    "        title_text='Target Dataset Length [Months]',\n",
    "        title_font=dict(size=18, family=\"Times New Roman\"),\n",
    "        row=1, col=2\n",
    "    )\n",
    "    fig.update_yaxes(\n",
    "        title_text='Source Dataset Volume',\n",
    "        title_font=dict(size=18, family=\"Times New Roman\"),\n",
    "        row=1, col=1\n",
    "    )\n",
    "\n",
    "    # Save figure\n",
    "    # fig.write_image(f'heatmap_row{row_number}.png', scale=4)\n",
    "    return fig\n",
    "\n",
    "# Create and save both heatmaps\n",
    "fig1 = create_heatmap(sites_row1, 1)\n",
    "fig2 = create_heatmap(sites_row2, 2)\n",
    "\n",
    "# Display figures (optional)\n",
    "fig1.show()\n",
    "fig2.show()"
   ]
  },
  {
   "cell_type": "code",
   "execution_count": null,
   "metadata": {},
   "outputs": [
    {
     "data": {
      "application/vnd.plotly.v1+json": {
       "config": {
        "plotlyServerURL": "https://plot.ly"
       },
       "data": [
        {
         "colorbar": {
          "len": 0.8,
          "thickness": 25,
          "tickfont": {
           "family": "Times New Roman",
           "size": 14
          },
          "tickmode": "array",
          "ticktext": [
           "7.15",
           "6.44",
           "5.73"
          ],
          "tickvals": [
           7.1455,
           6.43735,
           5.7292
          ],
          "title": {
           "font": {
            "family": "Times New Roman",
            "size": 15
           },
           "side": "top",
           "text": "MAPE [%]"
          },
          "x": 0.25,
          "y": 0.89,
          "yanchor": "top"
         },
         "colorscale": [
          [
           0,
           "rgb(16, 59, 88)"
          ],
          [
           0.66,
           "rgb(106, 40, 44)"
          ],
          [
           1,
           "rgb(179, 26, 35)"
          ]
         ],
         "reversescale": true,
         "showscale": true,
         "text": [
          [
           "6.17",
           "6.18",
           "5.87",
           "5.73"
          ],
          [
           "6.67",
           "6.86",
           "6.47",
           "6.21"
          ],
          [
           "7.14",
           "7.15",
           "6.71",
           "6.44"
          ]
         ],
         "textfont": {
          "color": "white",
          "family": "Times New Roman",
          "size": 15
         },
         "texttemplate": "%{text}",
         "type": "heatmap",
         "x": [
          "3",
          "6",
          "9",
          "12"
         ],
         "xaxis": "x",
         "y": [
          "All ",
          "1/8 ",
          "1/16 "
         ],
         "yaxis": "y",
         "z": [
          [
           6.1724,
           6.1783,
           5.8742,
           5.7292
          ],
          [
           6.6736,
           6.8629,
           6.468,
           6.2141
          ],
          [
           7.1363,
           7.1455,
           6.7053,
           6.4413
          ]
         ],
         "zmax": 5.7292,
         "zmin": 7.1455
        },
        {
         "colorbar": {
          "len": 0.8,
          "thickness": 25,
          "tickfont": {
           "family": "Times New Roman",
           "size": 14
          },
          "tickmode": "array",
          "ticktext": [
           "3.83",
           "3.45",
           "3.06"
          ],
          "tickvals": [
           3.8336,
           3.44705,
           3.0605
          ],
          "title": {
           "font": {
            "family": "Times New Roman",
            "size": 15
           },
           "side": "top",
           "text": ""
          },
          "x": 0.623,
          "y": 0.89,
          "yanchor": "top"
         },
         "colorscale": [
          [
           0,
           "rgb(16, 59, 88)"
          ],
          [
           0.66,
           "rgb(106, 40, 44)"
          ],
          [
           1,
           "rgb(179, 26, 35)"
          ]
         ],
         "reversescale": true,
         "showscale": true,
         "text": [
          [
           "3.39",
           "3.21",
           "3.35",
           "3.06"
          ],
          [
           "3.32",
           "3.30",
           "3.30",
           "3.32"
          ],
          [
           "3.83",
           "3.80",
           "3.78",
           "3.74"
          ]
         ],
         "textfont": {
          "color": "white",
          "family": "Times New Roman",
          "size": 15
         },
         "texttemplate": "%{text}",
         "type": "heatmap",
         "x": [
          "3",
          "6",
          "9",
          "12"
         ],
         "xaxis": "x2",
         "y": [
          "All ",
          "1/8 ",
          "1/16 "
         ],
         "yaxis": "y2",
         "z": [
          [
           3.3888,
           3.2131,
           3.3475,
           3.0605
          ],
          [
           3.3241,
           3.2975,
           3.2998,
           3.3247
          ],
          [
           3.8336,
           3.7963,
           3.7823,
           3.7371
          ]
         ],
         "zmax": 3.0605,
         "zmin": 3.8336
        },
        {
         "colorbar": {
          "len": 0.8,
          "thickness": 25,
          "tickfont": {
           "family": "Times New Roman",
           "size": 14
          },
          "tickmode": "array",
          "ticktext": [
           "4.35",
           "3.56",
           "2.76"
          ],
          "tickvals": [
           4.3548,
           3.556,
           2.7572
          ],
          "title": {
           "font": {
            "family": "Times New Roman",
            "size": 15
           },
           "side": "top",
           "text": ""
          },
          "x": 0.996,
          "y": 0.89,
          "yanchor": "top"
         },
         "colorscale": [
          [
           0,
           "rgb(16, 59, 88)"
          ],
          [
           0.66,
           "rgb(106, 40, 44)"
          ],
          [
           1,
           "rgb(179, 26, 35)"
          ]
         ],
         "reversescale": true,
         "showscale": true,
         "text": [
          [
           "3.68",
           "3.32",
           "2.97",
           "2.76"
          ],
          [
           "4.03",
           "3.65",
           "3.34",
           "3.07"
          ],
          [
           "4.35",
           "3.85",
           "3.54",
           "3.28"
          ]
         ],
         "textfont": {
          "color": "white",
          "family": "Times New Roman",
          "size": 15
         },
         "texttemplate": "%{text}",
         "type": "heatmap",
         "x": [
          "3",
          "6",
          "9",
          "12"
         ],
         "xaxis": "x3",
         "y": [
          "All ",
          "1/8 ",
          "1/16 "
         ],
         "yaxis": "y3",
         "z": [
          [
           3.6815,
           3.3182,
           2.9681,
           2.7572
          ],
          [
           4.0321,
           3.6522,
           3.3389,
           3.0737
          ],
          [
           4.3548,
           3.8478,
           3.5435,
           3.2797
          ]
         ],
         "zmax": 2.7572,
         "zmin": 4.3548
        }
       ],
       "layout": {
        "annotations": [
         {
          "font": {
           "family": "Times New Roman",
           "size": 20
          },
          "showarrow": false,
          "text": "GIST<br><span style='font-size: 18px'>(531,710 points)</span>",
          "x": 0.12666666666666668,
          "xanchor": "center",
          "xref": "paper",
          "y": 1,
          "yanchor": "bottom",
          "yref": "paper"
         },
         {
          "font": {
           "family": "Times New Roman",
           "size": 20
          },
          "showarrow": false,
          "text": "Konstanz<br><span style='font-size: 18px'>(256,473 points)</span>",
          "x": 0.5,
          "xanchor": "center",
          "xref": "paper",
          "y": 1,
          "yanchor": "bottom",
          "yref": "paper"
         },
         {
          "font": {
           "family": "Times New Roman",
           "size": 20
          },
          "showarrow": false,
          "text": "Miryang<br><span style='font-size: 18px'>(82,255 points)</span>",
          "x": 0.8733333333333333,
          "xanchor": "center",
          "xref": "paper",
          "y": 1,
          "yanchor": "bottom",
          "yref": "paper"
         }
        ],
        "font": {
         "color": "black",
         "family": "Times New Roman",
         "size": 14
        },
        "height": 400,
        "margin": {
         "b": 40,
         "t": 100
        },
        "showlegend": false,
        "template": {
         "data": {
          "bar": [
           {
            "error_x": {
             "color": "#2a3f5f"
            },
            "error_y": {
             "color": "#2a3f5f"
            },
            "marker": {
             "line": {
              "color": "#E5ECF6",
              "width": 0.5
             },
             "pattern": {
              "fillmode": "overlay",
              "size": 10,
              "solidity": 0.2
             }
            },
            "type": "bar"
           }
          ],
          "barpolar": [
           {
            "marker": {
             "line": {
              "color": "#E5ECF6",
              "width": 0.5
             },
             "pattern": {
              "fillmode": "overlay",
              "size": 10,
              "solidity": 0.2
             }
            },
            "type": "barpolar"
           }
          ],
          "carpet": [
           {
            "aaxis": {
             "endlinecolor": "#2a3f5f",
             "gridcolor": "white",
             "linecolor": "white",
             "minorgridcolor": "white",
             "startlinecolor": "#2a3f5f"
            },
            "baxis": {
             "endlinecolor": "#2a3f5f",
             "gridcolor": "white",
             "linecolor": "white",
             "minorgridcolor": "white",
             "startlinecolor": "#2a3f5f"
            },
            "type": "carpet"
           }
          ],
          "choropleth": [
           {
            "colorbar": {
             "outlinewidth": 0,
             "ticks": ""
            },
            "type": "choropleth"
           }
          ],
          "contour": [
           {
            "colorbar": {
             "outlinewidth": 0,
             "ticks": ""
            },
            "colorscale": [
             [
              0,
              "#0d0887"
             ],
             [
              0.1111111111111111,
              "#46039f"
             ],
             [
              0.2222222222222222,
              "#7201a8"
             ],
             [
              0.3333333333333333,
              "#9c179e"
             ],
             [
              0.4444444444444444,
              "#bd3786"
             ],
             [
              0.5555555555555556,
              "#d8576b"
             ],
             [
              0.6666666666666666,
              "#ed7953"
             ],
             [
              0.7777777777777778,
              "#fb9f3a"
             ],
             [
              0.8888888888888888,
              "#fdca26"
             ],
             [
              1,
              "#f0f921"
             ]
            ],
            "type": "contour"
           }
          ],
          "contourcarpet": [
           {
            "colorbar": {
             "outlinewidth": 0,
             "ticks": ""
            },
            "type": "contourcarpet"
           }
          ],
          "heatmap": [
           {
            "colorbar": {
             "outlinewidth": 0,
             "ticks": ""
            },
            "colorscale": [
             [
              0,
              "#0d0887"
             ],
             [
              0.1111111111111111,
              "#46039f"
             ],
             [
              0.2222222222222222,
              "#7201a8"
             ],
             [
              0.3333333333333333,
              "#9c179e"
             ],
             [
              0.4444444444444444,
              "#bd3786"
             ],
             [
              0.5555555555555556,
              "#d8576b"
             ],
             [
              0.6666666666666666,
              "#ed7953"
             ],
             [
              0.7777777777777778,
              "#fb9f3a"
             ],
             [
              0.8888888888888888,
              "#fdca26"
             ],
             [
              1,
              "#f0f921"
             ]
            ],
            "type": "heatmap"
           }
          ],
          "heatmapgl": [
           {
            "colorbar": {
             "outlinewidth": 0,
             "ticks": ""
            },
            "colorscale": [
             [
              0,
              "#0d0887"
             ],
             [
              0.1111111111111111,
              "#46039f"
             ],
             [
              0.2222222222222222,
              "#7201a8"
             ],
             [
              0.3333333333333333,
              "#9c179e"
             ],
             [
              0.4444444444444444,
              "#bd3786"
             ],
             [
              0.5555555555555556,
              "#d8576b"
             ],
             [
              0.6666666666666666,
              "#ed7953"
             ],
             [
              0.7777777777777778,
              "#fb9f3a"
             ],
             [
              0.8888888888888888,
              "#fdca26"
             ],
             [
              1,
              "#f0f921"
             ]
            ],
            "type": "heatmapgl"
           }
          ],
          "histogram": [
           {
            "marker": {
             "pattern": {
              "fillmode": "overlay",
              "size": 10,
              "solidity": 0.2
             }
            },
            "type": "histogram"
           }
          ],
          "histogram2d": [
           {
            "colorbar": {
             "outlinewidth": 0,
             "ticks": ""
            },
            "colorscale": [
             [
              0,
              "#0d0887"
             ],
             [
              0.1111111111111111,
              "#46039f"
             ],
             [
              0.2222222222222222,
              "#7201a8"
             ],
             [
              0.3333333333333333,
              "#9c179e"
             ],
             [
              0.4444444444444444,
              "#bd3786"
             ],
             [
              0.5555555555555556,
              "#d8576b"
             ],
             [
              0.6666666666666666,
              "#ed7953"
             ],
             [
              0.7777777777777778,
              "#fb9f3a"
             ],
             [
              0.8888888888888888,
              "#fdca26"
             ],
             [
              1,
              "#f0f921"
             ]
            ],
            "type": "histogram2d"
           }
          ],
          "histogram2dcontour": [
           {
            "colorbar": {
             "outlinewidth": 0,
             "ticks": ""
            },
            "colorscale": [
             [
              0,
              "#0d0887"
             ],
             [
              0.1111111111111111,
              "#46039f"
             ],
             [
              0.2222222222222222,
              "#7201a8"
             ],
             [
              0.3333333333333333,
              "#9c179e"
             ],
             [
              0.4444444444444444,
              "#bd3786"
             ],
             [
              0.5555555555555556,
              "#d8576b"
             ],
             [
              0.6666666666666666,
              "#ed7953"
             ],
             [
              0.7777777777777778,
              "#fb9f3a"
             ],
             [
              0.8888888888888888,
              "#fdca26"
             ],
             [
              1,
              "#f0f921"
             ]
            ],
            "type": "histogram2dcontour"
           }
          ],
          "mesh3d": [
           {
            "colorbar": {
             "outlinewidth": 0,
             "ticks": ""
            },
            "type": "mesh3d"
           }
          ],
          "parcoords": [
           {
            "line": {
             "colorbar": {
              "outlinewidth": 0,
              "ticks": ""
             }
            },
            "type": "parcoords"
           }
          ],
          "pie": [
           {
            "automargin": true,
            "type": "pie"
           }
          ],
          "scatter": [
           {
            "fillpattern": {
             "fillmode": "overlay",
             "size": 10,
             "solidity": 0.2
            },
            "type": "scatter"
           }
          ],
          "scatter3d": [
           {
            "line": {
             "colorbar": {
              "outlinewidth": 0,
              "ticks": ""
             }
            },
            "marker": {
             "colorbar": {
              "outlinewidth": 0,
              "ticks": ""
             }
            },
            "type": "scatter3d"
           }
          ],
          "scattercarpet": [
           {
            "marker": {
             "colorbar": {
              "outlinewidth": 0,
              "ticks": ""
             }
            },
            "type": "scattercarpet"
           }
          ],
          "scattergeo": [
           {
            "marker": {
             "colorbar": {
              "outlinewidth": 0,
              "ticks": ""
             }
            },
            "type": "scattergeo"
           }
          ],
          "scattergl": [
           {
            "marker": {
             "colorbar": {
              "outlinewidth": 0,
              "ticks": ""
             }
            },
            "type": "scattergl"
           }
          ],
          "scattermapbox": [
           {
            "marker": {
             "colorbar": {
              "outlinewidth": 0,
              "ticks": ""
             }
            },
            "type": "scattermapbox"
           }
          ],
          "scatterpolar": [
           {
            "marker": {
             "colorbar": {
              "outlinewidth": 0,
              "ticks": ""
             }
            },
            "type": "scatterpolar"
           }
          ],
          "scatterpolargl": [
           {
            "marker": {
             "colorbar": {
              "outlinewidth": 0,
              "ticks": ""
             }
            },
            "type": "scatterpolargl"
           }
          ],
          "scatterternary": [
           {
            "marker": {
             "colorbar": {
              "outlinewidth": 0,
              "ticks": ""
             }
            },
            "type": "scatterternary"
           }
          ],
          "surface": [
           {
            "colorbar": {
             "outlinewidth": 0,
             "ticks": ""
            },
            "colorscale": [
             [
              0,
              "#0d0887"
             ],
             [
              0.1111111111111111,
              "#46039f"
             ],
             [
              0.2222222222222222,
              "#7201a8"
             ],
             [
              0.3333333333333333,
              "#9c179e"
             ],
             [
              0.4444444444444444,
              "#bd3786"
             ],
             [
              0.5555555555555556,
              "#d8576b"
             ],
             [
              0.6666666666666666,
              "#ed7953"
             ],
             [
              0.7777777777777778,
              "#fb9f3a"
             ],
             [
              0.8888888888888888,
              "#fdca26"
             ],
             [
              1,
              "#f0f921"
             ]
            ],
            "type": "surface"
           }
          ],
          "table": [
           {
            "cells": {
             "fill": {
              "color": "#EBF0F8"
             },
             "line": {
              "color": "white"
             }
            },
            "header": {
             "fill": {
              "color": "#C8D4E3"
             },
             "line": {
              "color": "white"
             }
            },
            "type": "table"
           }
          ]
         },
         "layout": {
          "annotationdefaults": {
           "arrowcolor": "#2a3f5f",
           "arrowhead": 0,
           "arrowwidth": 1
          },
          "autotypenumbers": "strict",
          "coloraxis": {
           "colorbar": {
            "outlinewidth": 0,
            "ticks": ""
           }
          },
          "colorscale": {
           "diverging": [
            [
             0,
             "#8e0152"
            ],
            [
             0.1,
             "#c51b7d"
            ],
            [
             0.2,
             "#de77ae"
            ],
            [
             0.3,
             "#f1b6da"
            ],
            [
             0.4,
             "#fde0ef"
            ],
            [
             0.5,
             "#f7f7f7"
            ],
            [
             0.6,
             "#e6f5d0"
            ],
            [
             0.7,
             "#b8e186"
            ],
            [
             0.8,
             "#7fbc41"
            ],
            [
             0.9,
             "#4d9221"
            ],
            [
             1,
             "#276419"
            ]
           ],
           "sequential": [
            [
             0,
             "#0d0887"
            ],
            [
             0.1111111111111111,
             "#46039f"
            ],
            [
             0.2222222222222222,
             "#7201a8"
            ],
            [
             0.3333333333333333,
             "#9c179e"
            ],
            [
             0.4444444444444444,
             "#bd3786"
            ],
            [
             0.5555555555555556,
             "#d8576b"
            ],
            [
             0.6666666666666666,
             "#ed7953"
            ],
            [
             0.7777777777777778,
             "#fb9f3a"
            ],
            [
             0.8888888888888888,
             "#fdca26"
            ],
            [
             1,
             "#f0f921"
            ]
           ],
           "sequentialminus": [
            [
             0,
             "#0d0887"
            ],
            [
             0.1111111111111111,
             "#46039f"
            ],
            [
             0.2222222222222222,
             "#7201a8"
            ],
            [
             0.3333333333333333,
             "#9c179e"
            ],
            [
             0.4444444444444444,
             "#bd3786"
            ],
            [
             0.5555555555555556,
             "#d8576b"
            ],
            [
             0.6666666666666666,
             "#ed7953"
            ],
            [
             0.7777777777777778,
             "#fb9f3a"
            ],
            [
             0.8888888888888888,
             "#fdca26"
            ],
            [
             1,
             "#f0f921"
            ]
           ]
          },
          "colorway": [
           "#636efa",
           "#EF553B",
           "#00cc96",
           "#ab63fa",
           "#FFA15A",
           "#19d3f3",
           "#FF6692",
           "#B6E880",
           "#FF97FF",
           "#FECB52"
          ],
          "font": {
           "color": "#2a3f5f"
          },
          "geo": {
           "bgcolor": "white",
           "lakecolor": "white",
           "landcolor": "#E5ECF6",
           "showlakes": true,
           "showland": true,
           "subunitcolor": "white"
          },
          "hoverlabel": {
           "align": "left"
          },
          "hovermode": "closest",
          "mapbox": {
           "style": "light"
          },
          "paper_bgcolor": "white",
          "plot_bgcolor": "#E5ECF6",
          "polar": {
           "angularaxis": {
            "gridcolor": "white",
            "linecolor": "white",
            "ticks": ""
           },
           "bgcolor": "#E5ECF6",
           "radialaxis": {
            "gridcolor": "white",
            "linecolor": "white",
            "ticks": ""
           }
          },
          "scene": {
           "xaxis": {
            "backgroundcolor": "#E5ECF6",
            "gridcolor": "white",
            "gridwidth": 2,
            "linecolor": "white",
            "showbackground": true,
            "ticks": "",
            "zerolinecolor": "white"
           },
           "yaxis": {
            "backgroundcolor": "#E5ECF6",
            "gridcolor": "white",
            "gridwidth": 2,
            "linecolor": "white",
            "showbackground": true,
            "ticks": "",
            "zerolinecolor": "white"
           },
           "zaxis": {
            "backgroundcolor": "#E5ECF6",
            "gridcolor": "white",
            "gridwidth": 2,
            "linecolor": "white",
            "showbackground": true,
            "ticks": "",
            "zerolinecolor": "white"
           }
          },
          "shapedefaults": {
           "line": {
            "color": "#2a3f5f"
           }
          },
          "ternary": {
           "aaxis": {
            "gridcolor": "white",
            "linecolor": "white",
            "ticks": ""
           },
           "baxis": {
            "gridcolor": "white",
            "linecolor": "white",
            "ticks": ""
           },
           "bgcolor": "#E5ECF6",
           "caxis": {
            "gridcolor": "white",
            "linecolor": "white",
            "ticks": ""
           }
          },
          "title": {
           "x": 0.05
          },
          "xaxis": {
           "automargin": true,
           "gridcolor": "white",
           "linecolor": "white",
           "ticks": "",
           "title": {
            "standoff": 15
           },
           "zerolinecolor": "white",
           "zerolinewidth": 2
          },
          "yaxis": {
           "automargin": true,
           "gridcolor": "white",
           "linecolor": "white",
           "ticks": "",
           "title": {
            "standoff": 15
           },
           "zerolinecolor": "white",
           "zerolinewidth": 2
          }
         }
        },
        "width": 1200,
        "xaxis": {
         "anchor": "y",
         "domain": [
          0,
          0.25333333333333335
         ],
         "tickfont": {
          "family": "Times New Roman",
          "size": 16
         }
        },
        "xaxis2": {
         "anchor": "y2",
         "domain": [
          0.37333333333333335,
          0.6266666666666667
         ],
         "tickfont": {
          "family": "Times New Roman",
          "size": 16
         },
         "title": {
          "font": {
           "family": "Times New Roman",
           "size": 18
          },
          "text": "Target Dataset Length [Months]"
         }
        },
        "xaxis3": {
         "anchor": "y3",
         "domain": [
          0.7466666666666667,
          1
         ],
         "tickfont": {
          "family": "Times New Roman",
          "size": 16
         }
        },
        "yaxis": {
         "anchor": "x",
         "domain": [
          0,
          1
         ],
         "tickfont": {
          "family": "Times New Roman",
          "size": 16
         },
         "title": {
          "font": {
           "family": "Times New Roman",
           "size": 18
          },
          "text": "Source Dataset Volume"
         }
        },
        "yaxis2": {
         "anchor": "x2",
         "domain": [
          0,
          1
         ],
         "tickfont": {
          "family": "Times New Roman",
          "size": 16
         }
        },
        "yaxis3": {
         "anchor": "x3",
         "domain": [
          0,
          1
         ],
         "tickfont": {
          "family": "Times New Roman",
          "size": 16
         }
        }
       }
      }
     },
     "metadata": {},
     "output_type": "display_data"
    },
    {
     "data": {
      "application/vnd.plotly.v1+json": {
       "config": {
        "plotlyServerURL": "https://plot.ly"
       },
       "data": [
        {
         "colorbar": {
          "len": 0.8,
          "thickness": 25,
          "tickfont": {
           "family": "Times New Roman",
           "size": 14
          },
          "tickmode": "array",
          "ticktext": [
           "6.36",
           "5.63",
           "4.89"
          ],
          "tickvals": [
           6.3624,
           5.628550000000001,
           4.8947
          ],
          "title": {
           "font": {
            "family": "Times New Roman",
            "size": 15
           },
           "side": "top",
           "text": "MAPE [%]"
          },
          "x": 0.25,
          "y": 0.89,
          "yanchor": "top"
         },
         "colorscale": [
          [
           0,
           "rgb(16, 59, 88)"
          ],
          [
           0.66,
           "rgb(106, 40, 44)"
          ],
          [
           1,
           "rgb(179, 26, 35)"
          ]
         ],
         "reversescale": true,
         "showscale": true,
         "text": [
          [
           "5.41",
           "5.28",
           "4.89",
           "4.95"
          ],
          [
           "5.85",
           "5.48",
           "4.98",
           "5.08"
          ],
          [
           "6.36",
           "5.59",
           "5.27",
           "5.24"
          ]
         ],
         "textfont": {
          "color": "white",
          "family": "Times New Roman",
          "size": 15
         },
         "texttemplate": "%{text}",
         "type": "heatmap",
         "x": [
          "3",
          "6",
          "9",
          "12"
         ],
         "xaxis": "x",
         "y": [
          "All ",
          "1/8 ",
          "1/16 "
         ],
         "yaxis": "y",
         "z": [
          [
           5.411,
           5.2759,
           4.8947,
           4.9451
          ],
          [
           5.8545,
           5.4798,
           4.9797,
           5.0834
          ],
          [
           6.3624,
           5.5923,
           5.2748,
           5.2427
          ]
         ],
         "zmax": 4.8947,
         "zmin": 6.3624
        },
        {
         "colorbar": {
          "len": 0.8,
          "thickness": 25,
          "tickfont": {
           "family": "Times New Roman",
           "size": 14
          },
          "tickmode": "array",
          "ticktext": [
           "7.52",
           "6.69",
           "5.85"
          ],
          "tickvals": [
           7.5237,
           6.687799999999999,
           5.8519
          ],
          "title": {
           "font": {
            "family": "Times New Roman",
            "size": 15
           },
           "side": "top",
           "text": ""
          },
          "x": 0.623,
          "y": 0.89,
          "yanchor": "top"
         },
         "colorscale": [
          [
           0,
           "rgb(16, 59, 88)"
          ],
          [
           0.66,
           "rgb(106, 40, 44)"
          ],
          [
           1,
           "rgb(179, 26, 35)"
          ]
         ],
         "reversescale": true,
         "showscale": true,
         "text": [
          [
           "6.44",
           "6.12",
           "5.85",
           "5.88"
          ],
          [
           "6.60",
           "6.13",
           "6.01",
           "6.19"
          ],
          [
           "7.52",
           "7.39",
           "6.31",
           "6.50"
          ]
         ],
         "textfont": {
          "color": "white",
          "family": "Times New Roman",
          "size": 15
         },
         "texttemplate": "%{text}",
         "type": "heatmap",
         "x": [
          "3",
          "6",
          "9",
          "12"
         ],
         "xaxis": "x2",
         "y": [
          "All ",
          "1/8 ",
          "1/16 "
         ],
         "yaxis": "y2",
         "z": [
          [
           6.4423,
           6.1232,
           5.8519,
           5.8817
          ],
          [
           6.6001,
           6.1299,
           6.0094,
           6.1892
          ],
          [
           7.5237,
           7.3936,
           6.3121,
           6.4992
          ]
         ],
         "zmax": 5.8519,
         "zmin": 7.5237
        },
        {
         "colorbar": {
          "len": 0.8,
          "thickness": 25,
          "tickfont": {
           "family": "Times New Roman",
           "size": 14
          },
          "tickmode": "array",
          "ticktext": [
           "10.48",
           "8.97",
           "7.47"
          ],
          "tickvals": [
           10.478,
           8.9728,
           7.4676
          ],
          "title": {
           "font": {
            "family": "Times New Roman",
            "size": 15
           },
           "side": "top",
           "text": ""
          },
          "x": 0.996,
          "y": 0.89,
          "yanchor": "top"
         },
         "colorscale": [
          [
           0,
           "rgb(16, 59, 88)"
          ],
          [
           0.66,
           "rgb(106, 40, 44)"
          ],
          [
           1,
           "rgb(179, 26, 35)"
          ]
         ],
         "reversescale": true,
         "showscale": true,
         "text": [
          [
           "7.47",
           "8.51",
           "7.66"
          ],
          [
           "8.25",
           "10.48",
           "8.24"
          ],
          [
           "8.25",
           "9.70",
           "8.86"
          ]
         ],
         "textfont": {
          "color": "white",
          "family": "Times New Roman",
          "size": 15
         },
         "texttemplate": "%{text}",
         "type": "heatmap",
         "x": [
          "3",
          "6",
          "9"
         ],
         "xaxis": "x3",
         "y": [
          "All ",
          "1/8 ",
          "1/16 "
         ],
         "yaxis": "y3",
         "z": [
          [
           7.4676,
           8.5057,
           7.6623
          ],
          [
           8.2529,
           10.478,
           8.2393
          ],
          [
           8.2501,
           9.7039,
           8.8634
          ]
         ],
         "zmax": 7.4676,
         "zmin": 10.478
        }
       ],
       "layout": {
        "annotations": [
         {
          "font": {
           "family": "Times New Roman",
           "size": 20
          },
          "showarrow": false,
          "text": "California<br><span style='font-size: 18px'>(45,699 points)</span>",
          "x": 0.12666666666666668,
          "xanchor": "center",
          "xref": "paper",
          "y": 1,
          "yanchor": "bottom",
          "yref": "paper"
         },
         {
          "font": {
           "family": "Times New Roman",
           "size": 20
          },
          "showarrow": false,
          "text": "Georgia<br><span style='font-size: 18px'>(26,547 points)</span>",
          "x": 0.5,
          "xanchor": "center",
          "xref": "paper",
          "y": 1,
          "yanchor": "bottom",
          "yref": "paper"
         },
         {
          "font": {
           "family": "Times New Roman",
           "size": 20
          },
          "showarrow": false,
          "text": "UK<br><span style='font-size: 18px'>(10,083 points)</span>",
          "x": 0.8733333333333333,
          "xanchor": "center",
          "xref": "paper",
          "y": 1,
          "yanchor": "bottom",
          "yref": "paper"
         }
        ],
        "font": {
         "color": "black",
         "family": "Times New Roman",
         "size": 14
        },
        "height": 400,
        "margin": {
         "b": 40,
         "t": 100
        },
        "showlegend": false,
        "template": {
         "data": {
          "bar": [
           {
            "error_x": {
             "color": "#2a3f5f"
            },
            "error_y": {
             "color": "#2a3f5f"
            },
            "marker": {
             "line": {
              "color": "#E5ECF6",
              "width": 0.5
             },
             "pattern": {
              "fillmode": "overlay",
              "size": 10,
              "solidity": 0.2
             }
            },
            "type": "bar"
           }
          ],
          "barpolar": [
           {
            "marker": {
             "line": {
              "color": "#E5ECF6",
              "width": 0.5
             },
             "pattern": {
              "fillmode": "overlay",
              "size": 10,
              "solidity": 0.2
             }
            },
            "type": "barpolar"
           }
          ],
          "carpet": [
           {
            "aaxis": {
             "endlinecolor": "#2a3f5f",
             "gridcolor": "white",
             "linecolor": "white",
             "minorgridcolor": "white",
             "startlinecolor": "#2a3f5f"
            },
            "baxis": {
             "endlinecolor": "#2a3f5f",
             "gridcolor": "white",
             "linecolor": "white",
             "minorgridcolor": "white",
             "startlinecolor": "#2a3f5f"
            },
            "type": "carpet"
           }
          ],
          "choropleth": [
           {
            "colorbar": {
             "outlinewidth": 0,
             "ticks": ""
            },
            "type": "choropleth"
           }
          ],
          "contour": [
           {
            "colorbar": {
             "outlinewidth": 0,
             "ticks": ""
            },
            "colorscale": [
             [
              0,
              "#0d0887"
             ],
             [
              0.1111111111111111,
              "#46039f"
             ],
             [
              0.2222222222222222,
              "#7201a8"
             ],
             [
              0.3333333333333333,
              "#9c179e"
             ],
             [
              0.4444444444444444,
              "#bd3786"
             ],
             [
              0.5555555555555556,
              "#d8576b"
             ],
             [
              0.6666666666666666,
              "#ed7953"
             ],
             [
              0.7777777777777778,
              "#fb9f3a"
             ],
             [
              0.8888888888888888,
              "#fdca26"
             ],
             [
              1,
              "#f0f921"
             ]
            ],
            "type": "contour"
           }
          ],
          "contourcarpet": [
           {
            "colorbar": {
             "outlinewidth": 0,
             "ticks": ""
            },
            "type": "contourcarpet"
           }
          ],
          "heatmap": [
           {
            "colorbar": {
             "outlinewidth": 0,
             "ticks": ""
            },
            "colorscale": [
             [
              0,
              "#0d0887"
             ],
             [
              0.1111111111111111,
              "#46039f"
             ],
             [
              0.2222222222222222,
              "#7201a8"
             ],
             [
              0.3333333333333333,
              "#9c179e"
             ],
             [
              0.4444444444444444,
              "#bd3786"
             ],
             [
              0.5555555555555556,
              "#d8576b"
             ],
             [
              0.6666666666666666,
              "#ed7953"
             ],
             [
              0.7777777777777778,
              "#fb9f3a"
             ],
             [
              0.8888888888888888,
              "#fdca26"
             ],
             [
              1,
              "#f0f921"
             ]
            ],
            "type": "heatmap"
           }
          ],
          "heatmapgl": [
           {
            "colorbar": {
             "outlinewidth": 0,
             "ticks": ""
            },
            "colorscale": [
             [
              0,
              "#0d0887"
             ],
             [
              0.1111111111111111,
              "#46039f"
             ],
             [
              0.2222222222222222,
              "#7201a8"
             ],
             [
              0.3333333333333333,
              "#9c179e"
             ],
             [
              0.4444444444444444,
              "#bd3786"
             ],
             [
              0.5555555555555556,
              "#d8576b"
             ],
             [
              0.6666666666666666,
              "#ed7953"
             ],
             [
              0.7777777777777778,
              "#fb9f3a"
             ],
             [
              0.8888888888888888,
              "#fdca26"
             ],
             [
              1,
              "#f0f921"
             ]
            ],
            "type": "heatmapgl"
           }
          ],
          "histogram": [
           {
            "marker": {
             "pattern": {
              "fillmode": "overlay",
              "size": 10,
              "solidity": 0.2
             }
            },
            "type": "histogram"
           }
          ],
          "histogram2d": [
           {
            "colorbar": {
             "outlinewidth": 0,
             "ticks": ""
            },
            "colorscale": [
             [
              0,
              "#0d0887"
             ],
             [
              0.1111111111111111,
              "#46039f"
             ],
             [
              0.2222222222222222,
              "#7201a8"
             ],
             [
              0.3333333333333333,
              "#9c179e"
             ],
             [
              0.4444444444444444,
              "#bd3786"
             ],
             [
              0.5555555555555556,
              "#d8576b"
             ],
             [
              0.6666666666666666,
              "#ed7953"
             ],
             [
              0.7777777777777778,
              "#fb9f3a"
             ],
             [
              0.8888888888888888,
              "#fdca26"
             ],
             [
              1,
              "#f0f921"
             ]
            ],
            "type": "histogram2d"
           }
          ],
          "histogram2dcontour": [
           {
            "colorbar": {
             "outlinewidth": 0,
             "ticks": ""
            },
            "colorscale": [
             [
              0,
              "#0d0887"
             ],
             [
              0.1111111111111111,
              "#46039f"
             ],
             [
              0.2222222222222222,
              "#7201a8"
             ],
             [
              0.3333333333333333,
              "#9c179e"
             ],
             [
              0.4444444444444444,
              "#bd3786"
             ],
             [
              0.5555555555555556,
              "#d8576b"
             ],
             [
              0.6666666666666666,
              "#ed7953"
             ],
             [
              0.7777777777777778,
              "#fb9f3a"
             ],
             [
              0.8888888888888888,
              "#fdca26"
             ],
             [
              1,
              "#f0f921"
             ]
            ],
            "type": "histogram2dcontour"
           }
          ],
          "mesh3d": [
           {
            "colorbar": {
             "outlinewidth": 0,
             "ticks": ""
            },
            "type": "mesh3d"
           }
          ],
          "parcoords": [
           {
            "line": {
             "colorbar": {
              "outlinewidth": 0,
              "ticks": ""
             }
            },
            "type": "parcoords"
           }
          ],
          "pie": [
           {
            "automargin": true,
            "type": "pie"
           }
          ],
          "scatter": [
           {
            "fillpattern": {
             "fillmode": "overlay",
             "size": 10,
             "solidity": 0.2
            },
            "type": "scatter"
           }
          ],
          "scatter3d": [
           {
            "line": {
             "colorbar": {
              "outlinewidth": 0,
              "ticks": ""
             }
            },
            "marker": {
             "colorbar": {
              "outlinewidth": 0,
              "ticks": ""
             }
            },
            "type": "scatter3d"
           }
          ],
          "scattercarpet": [
           {
            "marker": {
             "colorbar": {
              "outlinewidth": 0,
              "ticks": ""
             }
            },
            "type": "scattercarpet"
           }
          ],
          "scattergeo": [
           {
            "marker": {
             "colorbar": {
              "outlinewidth": 0,
              "ticks": ""
             }
            },
            "type": "scattergeo"
           }
          ],
          "scattergl": [
           {
            "marker": {
             "colorbar": {
              "outlinewidth": 0,
              "ticks": ""
             }
            },
            "type": "scattergl"
           }
          ],
          "scattermapbox": [
           {
            "marker": {
             "colorbar": {
              "outlinewidth": 0,
              "ticks": ""
             }
            },
            "type": "scattermapbox"
           }
          ],
          "scatterpolar": [
           {
            "marker": {
             "colorbar": {
              "outlinewidth": 0,
              "ticks": ""
             }
            },
            "type": "scatterpolar"
           }
          ],
          "scatterpolargl": [
           {
            "marker": {
             "colorbar": {
              "outlinewidth": 0,
              "ticks": ""
             }
            },
            "type": "scatterpolargl"
           }
          ],
          "scatterternary": [
           {
            "marker": {
             "colorbar": {
              "outlinewidth": 0,
              "ticks": ""
             }
            },
            "type": "scatterternary"
           }
          ],
          "surface": [
           {
            "colorbar": {
             "outlinewidth": 0,
             "ticks": ""
            },
            "colorscale": [
             [
              0,
              "#0d0887"
             ],
             [
              0.1111111111111111,
              "#46039f"
             ],
             [
              0.2222222222222222,
              "#7201a8"
             ],
             [
              0.3333333333333333,
              "#9c179e"
             ],
             [
              0.4444444444444444,
              "#bd3786"
             ],
             [
              0.5555555555555556,
              "#d8576b"
             ],
             [
              0.6666666666666666,
              "#ed7953"
             ],
             [
              0.7777777777777778,
              "#fb9f3a"
             ],
             [
              0.8888888888888888,
              "#fdca26"
             ],
             [
              1,
              "#f0f921"
             ]
            ],
            "type": "surface"
           }
          ],
          "table": [
           {
            "cells": {
             "fill": {
              "color": "#EBF0F8"
             },
             "line": {
              "color": "white"
             }
            },
            "header": {
             "fill": {
              "color": "#C8D4E3"
             },
             "line": {
              "color": "white"
             }
            },
            "type": "table"
           }
          ]
         },
         "layout": {
          "annotationdefaults": {
           "arrowcolor": "#2a3f5f",
           "arrowhead": 0,
           "arrowwidth": 1
          },
          "autotypenumbers": "strict",
          "coloraxis": {
           "colorbar": {
            "outlinewidth": 0,
            "ticks": ""
           }
          },
          "colorscale": {
           "diverging": [
            [
             0,
             "#8e0152"
            ],
            [
             0.1,
             "#c51b7d"
            ],
            [
             0.2,
             "#de77ae"
            ],
            [
             0.3,
             "#f1b6da"
            ],
            [
             0.4,
             "#fde0ef"
            ],
            [
             0.5,
             "#f7f7f7"
            ],
            [
             0.6,
             "#e6f5d0"
            ],
            [
             0.7,
             "#b8e186"
            ],
            [
             0.8,
             "#7fbc41"
            ],
            [
             0.9,
             "#4d9221"
            ],
            [
             1,
             "#276419"
            ]
           ],
           "sequential": [
            [
             0,
             "#0d0887"
            ],
            [
             0.1111111111111111,
             "#46039f"
            ],
            [
             0.2222222222222222,
             "#7201a8"
            ],
            [
             0.3333333333333333,
             "#9c179e"
            ],
            [
             0.4444444444444444,
             "#bd3786"
            ],
            [
             0.5555555555555556,
             "#d8576b"
            ],
            [
             0.6666666666666666,
             "#ed7953"
            ],
            [
             0.7777777777777778,
             "#fb9f3a"
            ],
            [
             0.8888888888888888,
             "#fdca26"
            ],
            [
             1,
             "#f0f921"
            ]
           ],
           "sequentialminus": [
            [
             0,
             "#0d0887"
            ],
            [
             0.1111111111111111,
             "#46039f"
            ],
            [
             0.2222222222222222,
             "#7201a8"
            ],
            [
             0.3333333333333333,
             "#9c179e"
            ],
            [
             0.4444444444444444,
             "#bd3786"
            ],
            [
             0.5555555555555556,
             "#d8576b"
            ],
            [
             0.6666666666666666,
             "#ed7953"
            ],
            [
             0.7777777777777778,
             "#fb9f3a"
            ],
            [
             0.8888888888888888,
             "#fdca26"
            ],
            [
             1,
             "#f0f921"
            ]
           ]
          },
          "colorway": [
           "#636efa",
           "#EF553B",
           "#00cc96",
           "#ab63fa",
           "#FFA15A",
           "#19d3f3",
           "#FF6692",
           "#B6E880",
           "#FF97FF",
           "#FECB52"
          ],
          "font": {
           "color": "#2a3f5f"
          },
          "geo": {
           "bgcolor": "white",
           "lakecolor": "white",
           "landcolor": "#E5ECF6",
           "showlakes": true,
           "showland": true,
           "subunitcolor": "white"
          },
          "hoverlabel": {
           "align": "left"
          },
          "hovermode": "closest",
          "mapbox": {
           "style": "light"
          },
          "paper_bgcolor": "white",
          "plot_bgcolor": "#E5ECF6",
          "polar": {
           "angularaxis": {
            "gridcolor": "white",
            "linecolor": "white",
            "ticks": ""
           },
           "bgcolor": "#E5ECF6",
           "radialaxis": {
            "gridcolor": "white",
            "linecolor": "white",
            "ticks": ""
           }
          },
          "scene": {
           "xaxis": {
            "backgroundcolor": "#E5ECF6",
            "gridcolor": "white",
            "gridwidth": 2,
            "linecolor": "white",
            "showbackground": true,
            "ticks": "",
            "zerolinecolor": "white"
           },
           "yaxis": {
            "backgroundcolor": "#E5ECF6",
            "gridcolor": "white",
            "gridwidth": 2,
            "linecolor": "white",
            "showbackground": true,
            "ticks": "",
            "zerolinecolor": "white"
           },
           "zaxis": {
            "backgroundcolor": "#E5ECF6",
            "gridcolor": "white",
            "gridwidth": 2,
            "linecolor": "white",
            "showbackground": true,
            "ticks": "",
            "zerolinecolor": "white"
           }
          },
          "shapedefaults": {
           "line": {
            "color": "#2a3f5f"
           }
          },
          "ternary": {
           "aaxis": {
            "gridcolor": "white",
            "linecolor": "white",
            "ticks": ""
           },
           "baxis": {
            "gridcolor": "white",
            "linecolor": "white",
            "ticks": ""
           },
           "bgcolor": "#E5ECF6",
           "caxis": {
            "gridcolor": "white",
            "linecolor": "white",
            "ticks": ""
           }
          },
          "title": {
           "x": 0.05
          },
          "xaxis": {
           "automargin": true,
           "gridcolor": "white",
           "linecolor": "white",
           "ticks": "",
           "title": {
            "standoff": 15
           },
           "zerolinecolor": "white",
           "zerolinewidth": 2
          },
          "yaxis": {
           "automargin": true,
           "gridcolor": "white",
           "linecolor": "white",
           "ticks": "",
           "title": {
            "standoff": 15
           },
           "zerolinecolor": "white",
           "zerolinewidth": 2
          }
         }
        },
        "width": 1200,
        "xaxis": {
         "anchor": "y",
         "domain": [
          0,
          0.25333333333333335
         ],
         "tickfont": {
          "family": "Times New Roman",
          "size": 16
         }
        },
        "xaxis2": {
         "anchor": "y2",
         "domain": [
          0.37333333333333335,
          0.6266666666666667
         ],
         "tickfont": {
          "family": "Times New Roman",
          "size": 16
         },
         "title": {
          "font": {
           "family": "Times New Roman",
           "size": 18
          },
          "text": "Target Dataset Length [Months]"
         }
        },
        "xaxis3": {
         "anchor": "y3",
         "domain": [
          0.7466666666666667,
          1
         ],
         "tickfont": {
          "family": "Times New Roman",
          "size": 16
         }
        },
        "yaxis": {
         "anchor": "x",
         "domain": [
          0,
          1
         ],
         "tickfont": {
          "family": "Times New Roman",
          "size": 16
         },
         "title": {
          "font": {
           "family": "Times New Roman",
           "size": 18
          },
          "text": "Source Dataset Volume"
         }
        },
        "yaxis2": {
         "anchor": "x2",
         "domain": [
          0,
          1
         ],
         "tickfont": {
          "family": "Times New Roman",
          "size": 16
         }
        },
        "yaxis3": {
         "anchor": "x3",
         "domain": [
          0,
          1
         ],
         "tickfont": {
          "family": "Times New Roman",
          "size": 16
         }
        }
       }
      }
     },
     "metadata": {},
     "output_type": "display_data"
    }
   ],
   "source": [
    "import plotly.graph_objects as go\n",
    "from plotly.subplots import make_subplots\n",
    "import numpy as np\n",
    "\n",
    "# Data setup\n",
    "sites_row1 = [\"GIST\", \"Konstanz\", \"Miryang\"]\n",
    "sites_row2 = [\"California\", \"Georgia\", \"UK\"]\n",
    "x_labels = [\"3\", \"6\", \"9\", \"12\"]\n",
    "x_labels_UK = [\"3\", \"6\", \"9\"]\n",
    "y_labels = [\"All \", \"1/8 \", \"1/16 \"]\n",
    "\n",
    "# Define data points for each site\n",
    "data_points = {\n",
    "    \"GIST\": 531710,\n",
    "    \"Konstanz\": 256473,\n",
    "    \"Miryang\": 82255,\n",
    "    \"California\": 45699,\n",
    "    \"Georgia\": 26547,\n",
    "    \"UK\": 10083\n",
    "}\n",
    "\n",
    "# Create titles with data points\n",
    "def create_subplot_titles(sites):\n",
    "    return [f\"{site}<br><span style='font-size: 18px'>({data_points[site]:,} data points)</span>\" for site in sites]\n",
    "\n",
    "data = {\n",
    "    \"GIST\":     [[6.1724, 6.1783, 5.8742, 5.7292],\n",
    "                 [6.6736, 6.8629, 6.4680, 6.2141],\n",
    "                 [7.1363, 7.1455, 6.7053, 6.4413]],\n",
    "\n",
    "    \"Konstanz\": [[3.3888, 3.2131, 3.3475, 3.0605],\n",
    "                 [3.3241, 3.2975, 3.2998, 3.3247],\n",
    "                 [3.8336, 3.7963, 3.7823, 3.7371]],\n",
    "\n",
    "    \"Miryang\":  [[3.6815, 3.3182, 2.9681, 2.7572],\n",
    "                 [4.0321, 3.6522, 3.3389, 3.0737],\n",
    "                 [4.3548, 3.8478, 3.5435, 3.2797]],\n",
    "\n",
    "    \"California\": [[5.411, 5.2759, 4.8947, 4.9451],\n",
    "                   [5.8545, 5.4798, 4.9797, 5.0834],\n",
    "                   [6.3624, 5.5923, 5.2748, 5.2427]],\n",
    "\n",
    "    \"Georgia\":  [[6.4423, 6.1232, 5.8519, 5.8817],\n",
    "                 [6.6001, 6.1299, 6.0094, 6.1892],\n",
    "                 [7.5237, 7.3936, 6.3121, 6.4992]],\n",
    "\n",
    "    \"UK\":       [[7.4676, 8.5057, 7.6623],\n",
    "                 [8.2529, 10.478, 8.2393],\n",
    "                 [8.2501, 9.7039, 8.8634]]\n",
    "}\n",
    "\n",
    "# Custom color scale\n",
    "custom_colorscale = [\n",
    "    (0.0, \"rgb(16, 59, 88)\"),       # Blue Opal\n",
    "    (0.66, \"rgb(106, 40, 44)\"),     # Syrah\n",
    "    (1.0, \"rgb(179, 26, 35)\")       # Adrenaline Rush\n",
    "]\n",
    "\n",
    "def create_heatmap(sites, row_number):\n",
    "    # Create figure with 1x3 subplots using updated titles\n",
    "    fig = make_subplots(\n",
    "        rows=1, cols=3,\n",
    "        subplot_titles=create_subplot_titles(sites),\n",
    "        horizontal_spacing=0.12\n",
    "    )\n",
    "\n",
    "    # Calculate colorbar positions\n",
    "    colorbar_x = [0.25, 0.623, 0.996]\n",
    "\n",
    "    # Add heatmaps\n",
    "    for idx, site in enumerate(sites):\n",
    "        col = idx + 1\n",
    "        \n",
    "        site_data = np.array(data[site])\n",
    "        site_min = np.nanmin(site_data[site_data != None])\n",
    "        site_max = np.nanmax(site_data[site_data != None])\n",
    "\n",
    "        if site == 'GIST' or site == 'California':\n",
    "            colorbar_title = 'MAPE [%]'\n",
    "        else:\n",
    "            colorbar_title = None\n",
    "\n",
    "        x_labels_current = x_labels_UK if site == 'UK' else x_labels\n",
    "        \n",
    "        fig.add_trace(\n",
    "            go.Heatmap(\n",
    "                z=data[site],\n",
    "                x=x_labels_current,\n",
    "                y=y_labels,\n",
    "                colorscale=custom_colorscale,\n",
    "                reversescale=True,\n",
    "                text=[[f'{val:.2f}' if val is not None else '' for val in row] for row in data[site]],\n",
    "                texttemplate='%{text}',\n",
    "                textfont={\"size\": 15, \"color\": \"white\", \"family\": \"Times New Roman\"},\n",
    "                showscale=True,\n",
    "                colorbar=dict(\n",
    "                    title=dict(\n",
    "                        text=colorbar_title if colorbar_title else '',\n",
    "                        font=dict(\n",
    "                            family=\"Times New Roman\",\n",
    "                            size=15,\n",
    "                        ),\n",
    "                        side='top'\n",
    "                    ),\n",
    "                    x=colorbar_x[col-1],\n",
    "                    y=0.89,\n",
    "                    len=0.8,\n",
    "                    thickness=25,\n",
    "                    yanchor='top',\n",
    "                    tickmode='array',\n",
    "                    tickvals=[site_max, (site_min + site_max)/2, site_min],\n",
    "                    ticktext=[f'{site_max:.2f}', f'{(site_min + site_max)/2:.2f}', f'{site_min:.2f}'],\n",
    "                    tickfont=dict(family=\"Times New Roman\", size=14),\n",
    "                ),\n",
    "                zmin=site_max,\n",
    "                zmax=site_min\n",
    "            ),\n",
    "            row=1, col=col\n",
    "        )\n",
    "\n",
    "    # Update layout with more top margin for two-line titles\n",
    "    fig.update_layout(\n",
    "        height=400,\n",
    "        width=1200,\n",
    "        showlegend=False,\n",
    "        margin=dict(t=100, b=40),  # Increased top margin\n",
    "        font=dict(\n",
    "            family=\"Times New Roman\",\n",
    "            size=14,\n",
    "            color=\"black\"\n",
    "        )\n",
    "    )\n",
    "\n",
    "    # Update subplot titles\n",
    "    for annotation in fig.layout.annotations:\n",
    "        annotation.font.update(\n",
    "            family='Times New Roman',\n",
    "            size=20\n",
    "        )\n",
    "\n",
    "    # Update axis labels\n",
    "    for col in range(1, 4):\n",
    "        fig.update_xaxes(\n",
    "            tickfont=dict(size=16, family=\"Times New Roman\"),\n",
    "            row=1, col=col\n",
    "        )\n",
    "        fig.update_yaxes(\n",
    "            tickfont=dict(size=16, family=\"Times New Roman\"),\n",
    "            row=1, col=col\n",
    "        )\n",
    "\n",
    "    # Add axis labels to the leftmost plot\n",
    "    fig.update_xaxes(\n",
    "        title_text='Target Dataset Length [Months]',\n",
    "        title_font=dict(size=18, family=\"Times New Roman\"),\n",
    "        row=1, col=2\n",
    "    )\n",
    "    fig.update_yaxes(\n",
    "        title_text='Source Dataset Volume',\n",
    "        title_font=dict(size=18, family=\"Times New Roman\"),\n",
    "        row=1, col=1\n",
    "    )\n",
    "\n",
    "    return fig\n",
    "\n",
    "# Create and save both heatmaps\n",
    "fig1 = create_heatmap(sites_row1, 1)\n",
    "fig2 = create_heatmap(sites_row2, 2)\n",
    "\n",
    "# Display figures\n",
    "fig1.show()\n",
    "fig2.show()"
   ]
  }
 ],
 "metadata": {
  "kernelspec": {
   "display_name": "pv",
   "language": "python",
   "name": "python3"
  },
  "language_info": {
   "codemirror_mode": {
    "name": "ipython",
    "version": 3
   },
   "file_extension": ".py",
   "mimetype": "text/x-python",
   "name": "python",
   "nbconvert_exporter": "python",
   "pygments_lexer": "ipython3",
   "version": "3.10.16"
  }
 },
 "nbformat": 4,
 "nbformat_minor": 2
}
